{
 "cells": [
  {
   "cell_type": "markdown",
   "source": [
    "# Sports14 Text/Image Feature Extraction"
   ],
   "metadata": {
    "collapsed": false
   }
  },
  {
   "cell_type": "markdown",
   "source": [],
   "metadata": {
    "collapsed": false
   }
  },
  {
   "cell_type": "code",
   "execution_count": 1,
   "outputs": [],
   "source": [
    "\n",
    "import os\n",
    "import numpy as np\n",
    "import pandas as pd"
   ],
   "metadata": {
    "collapsed": false,
    "pycharm": {
     "name": "#%%\n"
    }
   }
  },
  {
   "cell_type": "code",
   "execution_count": null,
   "outputs": [],
   "source": [
    "os.chdir('your dataset folder path')\n",
    "os.getcwd()"
   ],
   "metadata": {
    "collapsed": false,
    "pycharm": {
     "name": "#%%\n",
     "is_executing": true
    }
   }
  },
  {
   "cell_type": "markdown",
   "source": [
    "## Load text data"
   ],
   "metadata": {
    "collapsed": false
   }
  },
  {
   "cell_type": "code",
   "execution_count": 3,
   "outputs": [
    {
     "name": "stdout",
     "output_type": "stream",
     "text": [
      "data loaded!\n",
      "shape: (18357, 10)\n"
     ]
    },
    {
     "data": {
      "text/plain": "   itemID        asin                                              title  \\\n0       0  1881509818           Ghost Inc Glock Armorers Tool 3/32 Punch   \n1       1  2094869245  5 LED Bicycle Rear Tail Red Bike Torch Laser B...   \n2       2  7245456259  Black Mountain Products Single Resistance Band...   \n\n   price                                              imUrl  \\\n0   9.99  http://ecx.images-amazon.com/images/I/21iMxsyD...   \n1   8.26  http://ecx.images-amazon.com/images/I/51RtwnJw...   \n2  10.49  http://ecx.images-amazon.com/images/I/411Ikpf1...   \n\n                                             related           brand  \\\n0  {'also_bought': ['B000U3YWEM', 'B000U401J6', '...           Ghost   \n1  {'also_bought': ['B0081O93N2', 'B00EYTCHJA', '...             NaN   \n2  {'also_bought': ['B00DDBS2JE', 'B00H1KNHE8', '...  Black Mountain   \n\n                                          categories  \\\n0  [['Sports & Outdoors', 'Hunting & Fishing', 'H...   \n1  [['Sports & Outdoors', 'Cycling', 'Lights & Re...   \n2  [['Sports & Outdoors', 'Exercise & Fitness', '...   \n\n                           salesRank  \\\n0  {'Sports &amp; Outdoors': 172909}   \n1   {'Sports &amp; Outdoors': 14293}   \n2    {'Sports &amp; Outdoors': 1010}   \n\n                                         description  \n0  Ghost Armorer Tool (1). The GAT is made with a...  \n1  This newly-designed Laser tail light can emit ...  \n2  Black Mountain Products single resistance band...  ",
      "text/html": "<div>\n<style scoped>\n    .dataframe tbody tr th:only-of-type {\n        vertical-align: middle;\n    }\n\n    .dataframe tbody tr th {\n        vertical-align: top;\n    }\n\n    .dataframe thead th {\n        text-align: right;\n    }\n</style>\n<table border=\"1\" class=\"dataframe\">\n  <thead>\n    <tr style=\"text-align: right;\">\n      <th></th>\n      <th>itemID</th>\n      <th>asin</th>\n      <th>title</th>\n      <th>price</th>\n      <th>imUrl</th>\n      <th>related</th>\n      <th>brand</th>\n      <th>categories</th>\n      <th>salesRank</th>\n      <th>description</th>\n    </tr>\n  </thead>\n  <tbody>\n    <tr>\n      <th>0</th>\n      <td>0</td>\n      <td>1881509818</td>\n      <td>Ghost Inc Glock Armorers Tool 3/32 Punch</td>\n      <td>9.99</td>\n      <td>http://ecx.images-amazon.com/images/I/21iMxsyD...</td>\n      <td>{'also_bought': ['B000U3YWEM', 'B000U401J6', '...</td>\n      <td>Ghost</td>\n      <td>[['Sports &amp; Outdoors', 'Hunting &amp; Fishing', 'H...</td>\n      <td>{'Sports &amp;amp; Outdoors': 172909}</td>\n      <td>Ghost Armorer Tool (1). The GAT is made with a...</td>\n    </tr>\n    <tr>\n      <th>1</th>\n      <td>1</td>\n      <td>2094869245</td>\n      <td>5 LED Bicycle Rear Tail Red Bike Torch Laser B...</td>\n      <td>8.26</td>\n      <td>http://ecx.images-amazon.com/images/I/51RtwnJw...</td>\n      <td>{'also_bought': ['B0081O93N2', 'B00EYTCHJA', '...</td>\n      <td>NaN</td>\n      <td>[['Sports &amp; Outdoors', 'Cycling', 'Lights &amp; Re...</td>\n      <td>{'Sports &amp;amp; Outdoors': 14293}</td>\n      <td>This newly-designed Laser tail light can emit ...</td>\n    </tr>\n    <tr>\n      <th>2</th>\n      <td>2</td>\n      <td>7245456259</td>\n      <td>Black Mountain Products Single Resistance Band...</td>\n      <td>10.49</td>\n      <td>http://ecx.images-amazon.com/images/I/411Ikpf1...</td>\n      <td>{'also_bought': ['B00DDBS2JE', 'B00H1KNHE8', '...</td>\n      <td>Black Mountain</td>\n      <td>[['Sports &amp; Outdoors', 'Exercise &amp; Fitness', '...</td>\n      <td>{'Sports &amp;amp; Outdoors': 1010}</td>\n      <td>Black Mountain Products single resistance band...</td>\n    </tr>\n  </tbody>\n</table>\n</div>"
     },
     "execution_count": 3,
     "metadata": {},
     "output_type": "execute_result"
    }
   ],
   "source": [
    "i_id, desc_str = 'itemID', 'description'\n",
    "\n",
    "file_path = './'\n",
    "file_name = 'meta-sports.csv'\n",
    "\n",
    "meta_file = os.path.join(file_path, file_name)\n",
    "\n",
    "df = pd.read_csv(meta_file)\n",
    "df.sort_values(by=[i_id], inplace=True)\n",
    "\n",
    "print('data loaded!')\n",
    "print(f'shape: {df.shape}')\n",
    "\n",
    "df[:3]"
   ],
   "metadata": {
    "collapsed": false,
    "pycharm": {
     "name": "#%%\n"
    }
   }
  },
  {
   "cell_type": "code",
   "execution_count": 4,
   "outputs": [
    {
     "name": "stdout",
     "output_type": "stream",
     "text": [
      "(91, 10)\n",
      "(2659, 10)\n",
      "(40, 10)\n",
      "(40, 10)\n",
      "(0, 10)\n"
     ]
    }
   ],
   "source": [
    "\n",
    "# sentences: title + brand + category + description | All have title + description\n",
    "\n",
    "title_na_df = df[df['title'].isnull()]\n",
    "print(title_na_df.shape)\n",
    "\n",
    "desc_na_df = df[df['description'].isnull()]\n",
    "print(desc_na_df.shape)\n",
    "\n",
    "na_df = df[df['description'].isnull() & df['title'].isnull()]\n",
    "print(na_df.shape)\n",
    "\n",
    "na3_df = df[df['description'].isnull() & df['title'].isnull() & df['brand'].isnull()]\n",
    "print(na3_df.shape)\n",
    "\n",
    "na4_df = df[df['description'].isnull() & df['title'].isnull() & df['brand'].isnull() & df['categories'].isnull()]\n",
    "print(na4_df.shape)"
   ],
   "metadata": {
    "collapsed": false,
    "pycharm": {
     "name": "#%%\n"
    }
   }
  },
  {
   "cell_type": "code",
   "execution_count": 5,
   "outputs": [],
   "source": [
    "\n",
    "df[desc_str] = df[desc_str].fillna(\" \")\n",
    "df['title'] = df['title'].fillna(\" \")\n",
    "df['brand'] = df['brand'].fillna(\" \")\n",
    "df['categories'] = df['categories'].fillna(\" \")\n"
   ],
   "metadata": {
    "collapsed": false,
    "pycharm": {
     "name": "#%%\n"
    }
   }
  },
  {
   "cell_type": "code",
   "execution_count": 6,
   "outputs": [
    {
     "data": {
      "text/plain": "['Ghost Inc Glock Armorers Tool 3/32 Punch Ghost Sports & Outdoors Hunting & Fishing Hunting Gun Maintenance Gunsmithing Tools Ghost Armorer Tool (1). The GAT is made with a spring steel punch. The diameter is 3/32 of an inch or 2.5mm, this is the same as the OEM tool size. The difference is you will be able to press harder without bending the shaft of this punch. Just a better tool to work on your Glock with.',\n '5 LED Bicycle Rear Tail Red Bike Torch Laser Beam Lamp Light   Sports & Outdoors Cycling Lights & Reflectors Taillights This newly-designed Laser tail light can emit two parallel lines, to form a virtual lane together with the moving of bicycle on the road. LED flash light and  two lines not only enhance the waring effect strongly and greatly but also improve the safety of night riding.',\n 'Black Mountain Products Single Resistance Band - Door Anchor and Starter Guide Included Black Mountain Sports & Outdoors Exercise & Fitness Accessories Exercise Bands Black Mountain Products single resistance bands are made out of the highest quality rubber to ensure maximum life and are 99 percent latex free! These bands are ideal for physical therapy, exercise, weight loss, Pilates, muscle toning, muscle strengthening, stretching, rehabilitation, and general health and fitness. B.M.P. resistance bands are great for home use, gym use, offices, and are ideal for travel. B.M.P. single resistance bands are a great alternative to conventional weights and exercise equipment. All Black Mountain Products Resistance bands come with a manufactures warranty.',\n 'Black Mountain Products Resistance Band Set with Door Anchor, Ankle Strap, Exercise Chart, and Resistance Band Carrying Case Black Mountain Sports & Outdoors Exercise & Fitness Accessories Exercise Bands [if gte mso 9]><xml> <o:OfficeDocumentSettings> <o:AllowPNG  /> </o:OfficeDocumentSettings> </xml><![endif][if gte mso 9]><xml> <w:WordDocument> <w:View>Normal</w:View> <w:Zoom>0</w:Zoom> <w:TrackMoves  /> <w:TrackFormatting  /> <w:PunctuationKerning  /> <w:ValidateAgainstSchemas  /> <w:SaveIfXMLInvalid>false</w:SaveIfXMLInvalid> <w:IgnoreMixedContent>false</w:IgnoreMixedContent> <w:AlwaysShowPlaceholderText>false</w:AlwaysShowPlaceholderText> <w:DoNotPromoteQF  /> <w:LidThemeOther>EN-US</w:LidThemeOther> <w:LidThemeAsian>X-NONE</w:LidThemeAsian> <w:LidThemeComplexScript>X-NONE</w:LidThemeComplexScript> <w:Compatibility> <w:BreakWrappedTables  /> <w:SnapToGridInCell  /> <w:WrapTextWithPunct  /> <w:UseAsianBreakRules  /> <w:DontGrowAutofit  /> <w:SplitPgBreakAndParaMark  /> <w:EnableOpenTypeKerning  /> <w:DontFlipMirrorIndents  /> <w:OverrideTableStyleHps  /> </w:Compatibility> <m:mathPr> <m:mathFont m:val=\"Cambria Math\"  /> <m:brkBin m:val=\"before\"  /> <m:brkBinSub m:val=\"&#45;-\"  /> <m:smallFrac m:val=\"off\"  /> <m:dispDef  /> <m:lMargin m:val=\"0\"  /> <m:rMargin m:val=\"0\"  /> <m:defJc m:val=\"centerGroup\"  /> <m:wrapIndent m:val=\"1440\"  /> <m:intLim m:val=\"subSup\"  /> <m:naryLim m:val=\"undOvr\"  /> </m:mathPr></w:WordDocument> </xml><![endif][if gte mso 9]><xml> <w:LatentStyles DefLockedState=\"false\" DefUnhideWhenUsed=\"true\"   DefSemiHidden=\"true\" DefQFormat=\"false\" DefPriority=\"99\"   LatentStyleCount=\"267\"> <w:LsdException Locked=\"false\" Priority=\"0\" SemiHidden=\"false\"    UnhideWhenUsed=\"false\" QFormat=\"true\" Name=\"Normal\"  /> <w:LsdException Locked=\"false\" Priority=\"9\" SemiHidden=\"false\"    UnhideWhenUsed=\"false\" QFormat=\"true\" Name=\"heading 1\"  /> <w:LsdException Locked=\"false\" Priority=\"9\" QFormat=\"true\" Name=\"heading 2\"  /> <w:LsdException Locked=\"false\" Priority=\"9\" QFormat=\"true\" Name=\"heading 3\"  /> <w:LsdException Locked=\"false\" Priority=\"9\" QFormat=\"true\" Name=\"heading 4\"  /> <w:LsdException Locked=\"false\" Priority=\"9\" QFormat=\"true\" Name=\"heading 5\"  /> <w:LsdException Locked=\"false\" Priority=\"9\" QFormat=\"true\" Name=\"heading 6\"  /> <w:LsdException Locked=\"false\" Priority=\"9\" QFormat=\"true\" Name=\"heading 7\"  /> <w:LsdException Locked=\"false\" Priority=\"9\" QFormat=\"true\" Name=\"heading 8\"  /> <w:LsdException Locked=\"false\" Priority=\"9\" QFormat=\"true\" Name=\"heading 9\"  /> <w:LsdException Locked=\"false\" Priority=\"39\" Name=\"toc 1\"  /> <w:LsdException Locked=\"false\" Priority=\"39\" Name=\"toc 2\"  /> <w:LsdException Locked=\"false\" Priority=\"39\" Name=\"toc 3\"  /> <w:LsdException Locked=\"false\" Priority=\"39\" Name=\"toc 4\"  /> <w:LsdException Locked=\"false\" Priority=\"39\" Name=\"toc 5\"  /> <w:LsdException Locked=\"false\" Priority=\"39\" Name=\"toc 6\"  /> <w:LsdException Locked=\"false\" Priority=\"39\" Name=\"toc 7\"  /> <w:LsdException Locked=\"false\" Priority=\"39\" Name=\"toc 8\"  /> <w:LsdException Locked=\"false\" Priority=\"39\" Name=\"toc 9\"  /> <w:LsdException Locked=\"false\" Priority=\"35\" QFormat=\"true\" Name=\"caption\"  /> <w:LsdException Locked=\"false\" Priority=\"10\" SemiHidden=\"false\"    UnhideWhenUsed=\"false\" QFormat=\"true\" Name=\"Title\"  /> <w:LsdException Locked=\"false\" Priority=\"1\" Name=\"Default Paragraph Font\"  /> <w:LsdException Locked=\"false\" Priority=\"11\" SemiHidden=\"false\"    UnhideWhenUsed=\"false\" QFormat=\"true\" Name=\"Subtitle\"  /> <w:LsdException Locked=\"false\" Priority=\"22\" SemiHidden=\"false\"    UnhideWhenUsed=\"false\" QFormat=\"true\" Name=\"Strong\"  /> <w:LsdException Locked=\"false\" Priority=\"20\" SemiHidden=\"false\"    UnhideWhenUsed=\"false\" QFormat=\"true\" Name=\"Emphasis\"  /> <w:LsdException Locked=\"false\" Priority=\"59\" SemiHidden=\"false\"    UnhideWhenUsed=\"false\" Name=\"Table Grid\"  /> <w:LsdException Locked=\"false\" UnhideWhenUsed=\"false\" Name=\"Placeholder Text\"  /> <w:LsdException Locked=\"false\" Priority=\"1\" SemiHidden=\"false\"    UnhideWhenUsed=\"false\" QFormat=\"true\" Name=\"No Spacing\"  /> <w:LsdException Locked=\"false\" Priority=\"60\" SemiHidden=\"false\"    UnhideWhenUsed=\"false\" Name=\"Light Shading\"  /> <w:LsdException Locked=\"false\" Priority=\"61\" SemiHidden=\"false\"    UnhideWhenUsed=\"false\" Name=\"Light List\"  /> <w:LsdException Locked=\"false\" Priority=\"62\" SemiHidden=\"false\"    UnhideWhenUsed=\"false\" Name=\"Light Grid\"  /> <w:LsdException Locked=\"false\" Priority=\"63\" SemiHidden=\"false\"    UnhideWhenUsed=\"false\" Name=\"Medium Shading 1\"  /> <w:LsdException Locked=\"false\" Priority=\"64\" SemiHidden=\"false\"    UnhideWhenUsed=\"false\" Name=\"Medium Shading 2\"  /> <w:LsdException Locked=\"false\" Priority=\"65\" SemiHidden=\"false\"    UnhideWhenUsed=\"false\" Name=\"Medium List 1\"  /> <w:LsdException Locked=\"false\" Priority=\"66\" SemiHidden=\"false\"    UnhideWhenUsed=\"false\" Name=\"Medium List 2\"  /> <w:LsdException Locked=\"false\" Priority=\"67\" SemiHidden=\"false\"    UnhideWhenUsed=\"false\" Name=\"Medium Grid 1\"  /> <w:LsdException Locked=\"false\" Priority=\"68\" SemiHidden=\"false\"    UnhideWhenUsed=\"false\" Name=\"Medium Grid 2\"  /> <w:LsdException Locked=\"false\" Priority=\"69\" SemiHidden=\"false\"    UnhideWhenUsed=\"false\" Name=\"Medium Grid 3\"  /> <w:LsdException Locked=\"false\" Priority=\"70\" SemiHidden=\"false\"    UnhideWhenUsed=\"false\" Name=\"Dark List\"  /> <w:LsdException Locked=\"false\" Priority=\"71\" SemiHidden=\"false\"    UnhideWhenUsed=\"false\" Name=\"Colorful Shading\"  /> <w:LsdException Locked=\"false\" Priority=\"72\" SemiHidden=\"false\"    UnhideWhenUsed=\"false\" Name=\"Colorful List\"  /> <w:LsdException Locked=\"false\" Priority=\"73\" SemiHidden=\"false\"    UnhideWhenUsed=\"false\" Name=\"Colorful Grid\"  /> <w:LsdException Locked=\"false\" Priority=\"60\" SemiHidden=\"false\"    UnhideWhenUsed=\"false\" Name=\"Light Shading Accent 1\"  /> <w:LsdException Locked=\"false\" Priority=\"61\" SemiHidden=\"false\"    UnhideWhenUsed=\"false\" Name=\"Light List Accent 1\"  /> <w:LsdException Locked=\"false\" Priority=\"62\" SemiHidden=\"false\"    UnhideWhenUsed=\"false\" Name=\"Light Grid Accent 1\"  /> <w:LsdException Locked=\"false\" Priority=\"63\" SemiHidden=\"false\"    UnhideWhenUsed=\"false\" Name=\"Medium Shading 1 Accent 1\"  /> <w:LsdException Locked=\"false\" Priority=\"64\" SemiHidden=\"false\"    UnhideWhenUsed=\"false\" Name=\"Medium Shading 2 Accent 1\"  /> <w:LsdException Locked=\"false\" Priority=\"65\" SemiHidden=\"false\"    UnhideWhenUsed=\"false\" Name=\"Medium List 1 Accent 1\"  /> <w:LsdException Locked=\"false\" UnhideWhenUsed=\"false\" Name=\"Revision\"  /> <w:LsdException Locked=\"false\" Priority=\"34\" SemiHidden=\"false\"    UnhideWhenUsed=\"false\" QFormat=\"true\" Name=\"List Paragraph\"  /> <w:LsdException Locked=\"false\" Priority=\"29\" SemiHidden=\"false\"    UnhideWhenUsed=\"false\" QFormat=\"true\" Name=\"Quote\"  /> <w:LsdException Locked=\"false\" Priority=\"30\" SemiHidden=\"false\"    UnhideWhenUsed=\"false\" QFormat=\"true\" Name=\"Intense Quote\"  /> <w:LsdException Locked=\"false\" Priority=\"66\" SemiHidden=\"false\"    UnhideWhenUsed=\"false\" Name=\"Medium List 2 Accent 1\"  /> <w:LsdException Locked=\"false\" Priority=\"67\" SemiHidden=\"false\"    UnhideWhenUsed=\"false\" Name=\"Medium Grid 1 Accent 1\"  /> <w:LsdException Locked=\"false\" Priority=\"68\" SemiHidden=\"false\"    UnhideWhenUsed=\"false\" Name=\"Medium Grid 2 Accent 1\"  /> <w:LsdException Locked=\"false\" Priority=\"69\" SemiHidden=\"false\"    UnhideWhenUsed=\"false\" Name=\"Medium Grid 3 Accent 1\"  /> <w:LsdException Locked=\"false\" Priority=\"70\" SemiHidden=\"false\"    UnhideWhenUsed=\"false\" Name=\"Dark List Accent 1\"  /> <w:LsdException Locked=\"false\" Priority=\"71\" SemiHidden=\"false\"    UnhideWhenUsed=\"false\" Name=\"Colorful Shading Accent 1\"  /> <w:LsdException Locked=\"false\" Priority=\"72\" SemiHidden=\"false\"    UnhideWhenUsed=\"false\" Name=\"Colorful List Accent 1\"  /> <w:LsdException Locked=\"false\" Priority=\"73\" SemiHidden=\"false\"    UnhideWhenUsed=\"false\" Name=\"Colorful Grid Accent 1\"  /> <w:LsdException Locked=\"false\" Priority=\"60\" SemiHidden=\"false\"    UnhideWhenUsed=\"false\" Name=\"Light Shading Accent 2\"  /> <w:LsdException Locked=\"false\" Priority=\"61\" SemiHidden=\"false\"    UnhideWhenUsed=\"false\" Name=\"Light List Accent 2\"  /> <w:LsdException Locked=\"false\" Priority=\"62\" SemiHidden=\"false\"    UnhideWhenUsed=\"false\" Name=\"Light Grid Accent 2\"  /> <w:LsdException Locked=\"false\" Priority=\"63\" SemiHidden=\"false\"    UnhideWhenUsed=\"false\" Name=\"Medium Shading 1 Accent 2\"  /> <w:LsdException Locked=\"false\" Priority=\"64\" SemiHidden=\"false\"    UnhideWhenUsed=\"false\" Name=\"Medium Shading 2 Accent 2\"  /> <w:LsdException Locked=\"false\" Priority=\"65\" SemiHidden=\"false\"    UnhideWhenUsed=\"false\" Name=\"Medium List 1 Accent 2\"  /> <w:LsdException Locked=\"false\" Priority=\"66\" SemiHidden=\"false\"    UnhideWhenUsed=\"false\" Name=\"Medium List 2 Accent 2\"  /> <w:LsdException Locked=\"false\" Priority=\"67\" SemiHidden=\"false\"    UnhideWhenUsed=\"false\" Name=\"Medium Grid 1 Accent 2\"  /> <w:LsdException Locked=\"false\" Priority=\"68\" SemiHidden=\"false\"    UnhideWhenUsed=\"false\" Name=\"Medium Grid 2 Accent 2\"  /> <w:LsdException Locked=\"false\" Priority=\"69\" SemiHidden=\"false\"    UnhideWhenUsed=\"false\" Name=\"Medium Grid 3 Accent 2\"  /> <w:LsdException Locked=\"false\" Priority=\"70\" SemiHidden=\"false\"    UnhideWhenUsed=\"false\" Name=\"Dark List Accent 2\"  /> <w:LsdException Locked=\"false\" Priority=\"71\" SemiHidden=\"false\"    UnhideWhenUsed=\"false\" Name=\"Colorful Shading Accent 2\"  /> <w:LsdException Locked=\"false\" Priority=\"72\" SemiHidden=\"false\"    UnhideWhenUsed=\"false\" Name=\"Colorful List Accent 2\"  /> <w:LsdException Locked=\"false\" Priority=\"73\" SemiHidden=\"false\"    UnhideWhenUsed=\"false\" Name=\"Colorful Grid Accent 2\"  /> <w:LsdException Locked=\"false\" Priority=\"60\" SemiHidden=\"false\"    UnhideWhenUsed=\"false\" Name=\"Light Shading Accent 3\"  /> <w:LsdException Locked=\"false\" Priority=\"61\" SemiHidden=\"false\"    UnhideWhenUsed=\"false\" Name=\"Light List Accent 3\"  /> <w:LsdException Locked=\"false\" Priority=\"62\" SemiHidden=\"false\"    UnhideWhenUsed=\"false\" Name=\"Light Grid Accent 3\"  /> <w:LsdException Locked=\"false\" Priority=\"63\" SemiHidden=\"false\"    UnhideWhenUsed=\"false\" Name=\"Medium Shading 1 Accent 3\"  /> <w:LsdException Locked=\"false\" Priority=\"64\" SemiHidden=\"false\"    UnhideWhenUsed=\"false\" Name=\"Medium Shading 2 Accent 3\"  /> <w:LsdException Locked=\"false\" Priority=\"65\" SemiHidden=\"false\"    UnhideWhenUsed=\"false\" Name=\"Medium List 1 Accent 3\"  /> <w:LsdException Locked=\"false\" Priority=\"66\" SemiHidden=\"false\"    UnhideWhenUsed=\"false\" Name=\"Medium List 2 Accent 3\"  /> <w:LsdException Locked=\"false\" Priority=\"67\" SemiHidden=\"false\"    UnhideWhenUsed=\"false\" Name=\"Medium Grid 1 Accent 3\"  /> <w:LsdException Locked=\"false\" Priority=\"68\" SemiHidden=\"false\"    UnhideWhenUsed=\"false\" Name=\"Medium Grid 2 Accent 3\"  /> <w:LsdException Locked=\"false\" Priority=\"69\" SemiHidden=\"false\"    UnhideWhenUsed=\"false\" Name=\"Medium Grid 3 Accent 3\"  /> <w:LsdException Locked=\"false\" Priority=\"70\" SemiHidden=\"false\"    UnhideWhenUsed=\"false\" Name=\"Dark List Accent 3\"  /> <w:LsdException Locked=\"false\" Priority=\"71\" SemiHidden=\"false\"    UnhideWhenUsed=\"false\" Name=\"Colorful Shading Accent 3\"  /> <w:LsdException Locked=\"false\" Priority=\"72\" SemiHidden=\"false\"    UnhideWhenUsed=\"false\" Name=\"Colorful List Accent 3\"  /> <w:LsdException Locked=\"false\" Priority=\"73\" SemiHidden=\"false\"    UnhideWhenUsed=\"false\" Name=\"Colorful Grid Accent 3\"  /> <w:LsdException Locked=\"false\" Priority=\"60\" SemiHidden=\"false\"    UnhideWhenUsed=\"false\" Name=\"Light Shading Accent 4\"  /> <w:LsdException Locked=\"false\" Priority=\"61\" SemiHidden=\"false\"    UnhideWhenUsed=\"false\" Name=\"Light List Accent 4\"  /> <w:LsdException Locked=\"false\" Priority=\"62\" SemiHidden=\"false\"    UnhideWhenUsed=\"false\" Name=\"Light Grid Accent 4\"  /> <w:LsdException Locked=\"false\" Priority=\"63\" SemiHidden=\"false\"    UnhideWhenUsed=\"false\" Name=\"Medium Shading 1 Accent 4\"  /> <w:LsdException Locked=\"false\" Priority=\"64\" SemiHidden=\"false\"    UnhideWhenUsed=\"false\" Name=\"Medium Shading 2 Accent 4\"  /> <w:LsdException Locked=\"false\" Priority=\"65\" SemiHidden=\"false\"    UnhideWhenUsed=\"false\" Name=\"Medium List 1 Accent 4\"  /> <w:LsdException Locked=\"false\" Priority=\"66\" SemiHidden=\"false\"    UnhideWhenUsed=\"false\" Name=\"Medium List 2 Accent 4\"  /> <w:LsdException Locked=\"false\" Priority=\"67\" SemiHidden=\"false\"    UnhideWhenUsed=\"false\" Name=\"Medium Grid 1 Accent 4\"  /> <w:LsdException Locked=\"false\" Priority=\"68\" SemiHidden=\"false\"    UnhideWhenUsed=\"false\" Name=\"Medium Grid 2 Accent 4\"  /> <w:LsdException Locked=\"false\" Priority=\"69\" SemiHidden=\"false\"    UnhideWhenUsed=\"false\" Name=\"Medium Grid 3 Accent 4\"  /> <w:LsdException Locked=\"false\" Priority=\"70\" SemiHidden=\"false\"    UnhideWhenUsed=\"false\" Name=\"Dark List Accent 4\"  /> <w:LsdException Locked=\"false\" Priority=\"71\" SemiHidden=\"false\"    UnhideWhenUsed=\"false\" Name=\"Colorful Shading Accent 4\"  /> <w:LsdException Locked=\"false\" Priority=\"72\" SemiHidden=\"false\"    UnhideWhenUsed=\"false\" Name=\"Colorful List Accent 4\"  /> <w:LsdException Locked=\"false\" Priority=\"73\" SemiHidden=\"false\"    UnhideWhenUsed=\"false\" Name=\"Colorful Grid Accent 4\"  /> <w:LsdException Locked=\"false\" Priority=\"60\" SemiHidden=\"false\"    UnhideWhenUsed=\"false\" Name=\"Light Shading Accent 5\"  /> <w:LsdException Locked=\"false\" Priority=\"61\" SemiHidden=\"false\"    UnhideWhenUsed=\"false\" Name=\"Light List Accent 5\"  /> <w:LsdException Locked=\"false\" Priority=\"62\" SemiHidden=\"false\"    UnhideWhenUsed=\"false\" Name=\"Light Grid Accent 5\"  /> <w:LsdException Locked=\"false\" Priority=\"63\" SemiHidden=\"false\"    UnhideWhenUsed=\"false\" Name=\"Medium Shading 1 Accent 5\"  /> <w:LsdException Locked=\"false\" Priority=\"64\" SemiHidden=\"false\"    UnhideWhenUsed=\"false\" Name=\"Medium Shading 2 Accent 5\"  /> <w:LsdException Locked=\"false\" Priority=\"65\" SemiHidden=\"false\"    UnhideWhenUsed=\"false\" Name=\"Medium List 1 Accent 5\"  /> <w:LsdException Locked=\"false\" Priority=\"66\" SemiHidden=\"false\"    UnhideWhenUsed=\"false\" Name=\"Medium List 2 Accent 5\"  /> <w:LsdException Locked=\"false\" Priority=\"67\" SemiHidden=\"false\"    UnhideWhenUsed=\"false\" Name=\"Medium Grid 1 Accent 5\"  /> <w:LsdException Locked=\"false\" Priority=\"68\" SemiHidden=\"false\"    UnhideWhenUsed=\"false\" Name=\"Medium Grid 2 Accent 5\"  /> <w:LsdException Locked=\"false\" Priority=\"69\" SemiHidden=\"false\"    UnhideWhenUsed=\"false\" Name=\"Medium Grid 3 Accent 5\"  /> <w:LsdException Locked=\"false\" Priority=\"70\" SemiHidden=\"false\"    UnhideWhenUsed=\"false\" Name=\"Dark List Accent 5\"  /> <w:LsdException Locked=\"false\" Priority=\"71\" SemiHidden=\"false\"    UnhideWhenUsed=\"false\" Name=\"Colorful Shading Accent 5\"  /> <w:LsdException Locked=\"false\" Priority=\"72\" SemiHidden=\"false\"    UnhideWhenUsed=\"false\" Name=\"Colorful List Accent 5\"  /> <w:LsdException Locked=\"false\" Priority=\"73\" SemiHidden=\"false\"    UnhideWhenUsed=\"false\" Name=\"Colorful Grid Accent 5\"  /> <w:LsdException Locked=\"false\" Priority=\"60\" SemiHidden=\"false\"    UnhideWhenUsed=\"false\" Name=\"Light Shading Accent 6\"  /> <w:LsdException Locked=\"false\" Priority=\"61\" SemiHidden=\"false\"    UnhideWhenUsed=\"false\" Name=\"Light List Accent 6\"  /> <w:LsdException Locked=\"false\" Priority=\"62\" SemiHidden=\"false\"    UnhideWhenUsed=\"false\" Name=\"Light Grid Accent 6\"  /> <w:LsdException Locked=\"false\" Priority=\"63\" SemiHidden=\"false\"    UnhideWhenUsed=\"false\" Name=\"Medium Shading 1 Accent 6\"  /> <w:LsdException Locked=\"false\" Priority=\"64\" SemiHidden=\"false\"    UnhideWhenUsed=\"false\" Name=\"Medium Shading 2 Accent 6\"  /> <w:LsdException Locked=\"false\" Priority=\"65\" SemiHidden=\"false\"    UnhideWhenUsed=\"false\" Name=\"Medium List 1 Accent 6\"  /> <w:LsdException Locked=\"false\" Priority=\"66\" SemiHidden=\"false\"    UnhideWhenUsed=\"false\" Name=\"Medium List 2 Accent 6\"  /> <w:LsdException Locked=\"false\" Priority=\"67\" SemiHidden=\"false\"    UnhideWhenUsed=\"false\" Name=\"Medium Grid 1 Accent 6\"  /> <w:LsdException Locked=\"false\" Priority=\"68\" SemiHidden=\"false\"    UnhideWhenUsed=\"false\" Name=\"Medium Grid 2 Accent 6\"  /> <w:LsdException Locked=\"false\" Priority=\"69\" SemiHidden=\"false\"    UnhideWhenUsed=\"false\" Name=\"Medium Grid 3 Accent 6\"  /> <w:LsdException Locked=\"false\" Priority=\"70\" SemiHidden=\"false\"    UnhideWhenUsed=\"false\" Name=\"Dark List Accent 6\"  /> <w:LsdException Locked=\"false\" Priority=\"71\" SemiHidden=\"false\"    UnhideWhenUsed=\"false\" Name=\"Colorful Shading Accent 6\"  /> <w:LsdException Locked=\"false\" Priority=\"72\" SemiHidden=\"false\"    UnhideWhenUsed=\"false\" Name=\"Colorful List Accent 6\"  /> <w:LsdException Locked=\"false\" Priority=\"73\" SemiHidden=\"false\"    UnhideWhenUsed=\"false\" Name=\"Colorful Grid Accent 6\"  /> <w:LsdException Locked=\"false\" Priority=\"19\" SemiHidden=\"false\"    UnhideWhenUsed=\"false\" QFormat=\"true\" Name=\"Subtle Emphasis\"  /> <w:LsdException Locked=\"false\" Priority=\"21\" SemiHidden=\"false\"    UnhideWhenUsed=\"false\" QFormat=\"true\" Name=\"Intense Emphasis\"  /> <w:LsdException Locked=\"false\" Priority=\"31\" SemiHidden=\"false\"    UnhideWhenUsed=\"false\" QFormat=\"true\" Name=\"Subtle Reference\"  /> <w:LsdException Locked=\"false\" Priority=\"32\" SemiHidden=\"false\"    UnhideWhenUsed=\"false\" QFormat=\"true\" Name=\"Intense Reference\"  /> <w:LsdException Locked=\"false\" Priority=\"33\" SemiHidden=\"false\"    UnhideWhenUsed=\"false\" QFormat=\"true\" Name=\"Book Title\"  /> <w:LsdException Locked=\"false\" Priority=\"37\" Name=\"Bibliography\"  /> <w:LsdException Locked=\"false\" Priority=\"39\" QFormat=\"true\" Name=\"TOC Heading\"  /> </w:LatentStyles> </xml><![endif][if gte mso 10]> <style>  /* Style Definitions */  table.MsoNormalTable {mso-style-name:\"Table Normal\"; mso-tstyle-rowband-size:0; mso-tstyle-colband-size:0; mso-style-noshow:yes; mso-style-priority:99; mso-style-parent:\"\"; mso-padding-alt:0in 5.4pt 0in 5.4pt; mso-para-margin-top:0in; mso-para-margin-right:0in; mso-para-margin-bottom:10.0pt; mso-para-margin-left:0in; line-height:115%; mso-pagination:widow-orphan; font-size:11.0pt; font-family:\"Calibri\",\"sans-serif\"; mso-ascii-font-family:Calibri; mso-ascii-theme-font:minor-latin; mso-hansi-font-family:Calibri; mso-hansi-theme-font:minor-latin; mso-bidi-font-family:\"Times New Roman\"; mso-bidi-theme-font:minor-bidi;} </style> <![endif]Resistance bands, also known as exercise bands, fitness tubes, and resistance cords, are a great way to add variety to your strength training routine. Black Mountain Products resistance bands are made from high quality, natural latex material to ensure maximum life. Each resistance band set comes with a soft cushioned foam handles for comfort during exercise. Resistance bands are an excellent alternative to free weights, workout machines, and traditional body weight exercises. Training with Black Mountain Products resistance bands may assist with rehabilitative exercises, fat loss, building muscle and are ideal for travel.What\\'s in the box?This set includes:Cushioned foam handlesDoor anchorCarrying bagAnkle strapStarter guideFive bands of varying resistance:Yellow = 2-to-4 poundsBlue = 4-to-6 poundsGreen = 10-to-12 poundsBlack = 15-to-20 poundsRed = 25-to-30 poundsBenefits of Working with Resistance BandsIn addition to being bulky and immobile, free weights are often limited in the number of exercises you can perform. Resistance bands, on the other hand, offer a surprisingly varied number of training exercises by simply changing your bodily position in order to change the tension on your muscles. Bands take up little space, are mobile, and easy to use on any fitness level.WarrantyThis Black Mountain Products item includes a limited 90-day manufacturer\\'s warranty against defects in materials and workmanship.About Black Mountain ProductsBlack Mountain Products manufactures and distributes high-quality home exercise equipment, with a complete line of resistance bands and doorway chin-up bars designed to deliver results in the comfort and convenience of your home, particularly when paired with home exercise programs such as P90X.',\n 'Outers Universal 32-Piece Blow Molded Gun Cleaning Kit Outers Sports & Outdoors Hunting & Fishing Hunting Gun Maintenance Gun Cleaning Kits Outers now offers this rigid and durable hard case to stow and organize an assortment of gun care products to clean shotguns, rifles, or handguns, quickly and effectively.  Their blow molded design has a specific compartment for each piece within that kit.  Plus, the kit has additional compartments to hold bottles of gun-cleaning chemicals or any other gear you want to keep nearby.',\n 'Power Hooks (Pair)   Sports & Outdoors Exercise & Fitness Power Hooks (Pair) at Power Systems, Inc.',\n \"Pacific Play Tents Playchute 10' Parachute (Colors and Designs May Vary) PACIFIC PLAY TENTS Sports & Outdoors Other Sports Gymnastics Accessories Parachutes The parachute gambit is a teacher's secret weapon--a tried-and-true way to annihilate the afternoon blahs. At approximately 9 feet in diameter, with handles all the way around for little (or big) hands to grab, this sunny Playchute Parachute is just smaller than the classroom standard. Fling it into the air and watch it drift down. Run underneath it and watch the colors rain down. Throw a few stuffed animals in the center and bounce them around. Simple, satisfying thrills, and worth every penny.--Claire Dederer\",\n 'Find Me 6ft Tunnel PACIFIC PLAY TENTS Sports & Outdoors Leisure Sports & Game Room Trampolines & Accessories Trampolines Find Me 6ft Tunnel. The Pacific Play Tents Find Me Tunnel is perfect for developing cooperative play and enhancing muscle development! This innovative design incorporates a new padded interior system for safer more comfortable playtime. Your little one will enjoy countless hours traveling from one destination to another! Wipes clean with a damp cloth. Features sturdy, hardened spring steel construction. Tunnel collapses flat for easy storage. For children ages 3 years and older. Materials: Polyester Dacron 600 x 300 weave with 600mm PU coating, Steel. Dimensions: 72\"L x 19\"W x 19\"H; 4 lbs',\n 'Club Champ Super Sized Electic Putt N\\' Hazzard Putting Mat Club Champ Sports & Outdoors Golf Training Equipment Putting Mats Non-directional turf simulates real grass; regulation-size cup  is \"protected\" by sand trap and water hazard; realistic cup and golf hazards  return ball electronicallyLarge 9-by-16-inch putting surfaceUse at home, office, clubhouse, and partiesNo batteries required for operation --',\n 'Victorinox Swiss Army SwissTool with Pouch Victorinox Sports & Outdoors Outdoor Gear Camping & Hiking Knives & Tools Folding Knives From the renowned company that created the Swiss Army knife a century ago comes this folding tool kit--neatly contained within a single implement that measures just 4-1/2 inches long and 1-1/3 inches thick, weighs just 10 ounces, and comes in a polyester/nylon belt pouch. Its rugged stainless-steel construction and ease of use make this tool kit is a tribute to the precision of Swiss engineering. Tools open individually (no clumping), lock in place, and fold with a push button. The SwissTool carries a lifetime warranty against defects. The tools include pliers; 2-, 3-, 5-, and 7-1/2-mm screwdrivers; Phillips head screwdriver; wire cutter; bottle opener; large knife blade; serrated blade; metal file; metal saw; wood saw; reamer/punch; chisel/scraper; crate opener; wire bender; wire stripper; wire scraper; can opener; 9-inch ruler; 230-cm ruler; electrical crimper; and lanyard hole. --Fred Brack']"
     },
     "execution_count": 6,
     "metadata": {},
     "output_type": "execute_result"
    }
   ],
   "source": [
    "sentences = []\n",
    "for i, row in df.iterrows():\n",
    "    sen = row['title'] + ' ' + row['brand'] + ' '\n",
    "    cates = eval(row['categories'])\n",
    "    if isinstance(cates, list):\n",
    "        for c in cates[0]:\n",
    "            sen = sen + c + ' '\n",
    "    sen += row[desc_str]\n",
    "    sen = sen.replace('\\n', ' ')\n",
    "\n",
    "    sentences.append(sen)\n",
    "\n",
    "sentences[:10]"
   ],
   "metadata": {
    "collapsed": false,
    "pycharm": {
     "name": "#%%\n"
    }
   }
  },
  {
   "cell_type": "code",
   "execution_count": 7,
   "outputs": [],
   "source": [
    "\n",
    "course_list = df[i_id].tolist()\n",
    "#sentences = df[desc_str].tolist()\n",
    "\n",
    "assert course_list[-1] == len(course_list) - 1"
   ],
   "metadata": {
    "collapsed": false,
    "pycharm": {
     "name": "#%%\n"
    }
   }
  },
  {
   "cell_type": "code",
   "execution_count": 8,
   "metadata": {
    "collapsed": true
   },
   "outputs": [
    {
     "name": "stdout",
     "output_type": "stream",
     "text": [
      "text encoded!\n",
      "done!\n"
     ]
    }
   ],
   "source": [
    "# should `pip install sentence_transformers` first\n",
    "from sentence_transformers import SentenceTransformer\n",
    "\n",
    "model = SentenceTransformer('all-MiniLM-L6-v2')\n",
    "\n",
    "sentence_embeddings = model.encode(sentences)\n",
    "print('text encoded!')\n",
    "\n",
    "assert sentence_embeddings.shape[0] == df.shape[0]\n",
    "np.save(os.path.join(file_path, 'text_feat.npy'), sentence_embeddings)\n",
    "print('done!')\n"
   ]
  },
  {
   "cell_type": "code",
   "execution_count": 9,
   "outputs": [
    {
     "data": {
      "text/plain": "array([[-0.12623426,  0.03341388, -0.01948772, ..., -0.1013338 ,\n         0.0514545 ,  0.07334712],\n       [ 0.0068029 ,  0.00055715, -0.03157376, ...,  0.03421347,\n         0.02450724,  0.03113373],\n       [-0.12395922,  0.05546276, -0.00272348, ..., -0.19819073,\n         0.04171506,  0.05105354],\n       ...,\n       [-0.06516663,  0.04306812, -0.00357155, ...,  0.02348825,\n        -0.02514204,  0.06650119],\n       [ 0.05071206,  0.03823141, -0.04340539, ...,  0.00951272,\n         0.05093095,  0.03292951],\n       [-0.13305898,  0.07934257, -0.01714416, ..., -0.11284354,\n        -0.00523037,  0.03694083]], dtype=float32)"
     },
     "execution_count": 9,
     "metadata": {},
     "output_type": "execute_result"
    }
   ],
   "source": [
    "sentence_embeddings[:10]"
   ],
   "metadata": {
    "collapsed": false,
    "pycharm": {
     "name": "#%%\n"
    }
   }
  },
  {
   "cell_type": "code",
   "execution_count": 10,
   "outputs": [
    {
     "name": "stdout",
     "output_type": "stream",
     "text": [
      "(18357, 384)\n"
     ]
    },
    {
     "data": {
      "text/plain": "array([[-0.12623426,  0.03341388, -0.01948772, ..., -0.1013338 ,\n         0.0514545 ,  0.07334712],\n       [ 0.0068029 ,  0.00055715, -0.03157376, ...,  0.03421347,\n         0.02450724,  0.03113373],\n       [-0.12395922,  0.05546276, -0.00272348, ..., -0.19819073,\n         0.04171506,  0.05105354],\n       ...,\n       [-0.06516663,  0.04306812, -0.00357155, ...,  0.02348825,\n        -0.02514204,  0.06650119],\n       [ 0.05071206,  0.03823141, -0.04340539, ...,  0.00951272,\n         0.05093095,  0.03292951],\n       [-0.13305898,  0.07934257, -0.01714416, ..., -0.11284354,\n        -0.00523037,  0.03694083]], dtype=float32)"
     },
     "execution_count": 10,
     "metadata": {},
     "output_type": "execute_result"
    }
   ],
   "source": [
    "load_txt_feat = np.load('text_feat.npy', allow_pickle=True)\n",
    "print(load_txt_feat.shape)\n",
    "load_txt_feat[:10]"
   ],
   "metadata": {
    "collapsed": false,
    "pycharm": {
     "name": "#%%\n"
    }
   }
  },
  {
   "cell_type": "markdown",
   "source": [],
   "metadata": {
    "collapsed": false
   }
  },
  {
   "cell_type": "markdown",
   "source": [
    "# Image encoder (V0)，following LATTICE, averaging over for missed items"
   ],
   "metadata": {
    "collapsed": false
   }
  },
  {
   "cell_type": "code",
   "execution_count": 11,
   "outputs": [
    {
     "data": {
      "text/plain": "   itemID        asin                                              title  \\\n0       0  1881509818           Ghost Inc Glock Armorers Tool 3/32 Punch   \n1       1  2094869245  5 LED Bicycle Rear Tail Red Bike Torch Laser B...   \n2       2  7245456259  Black Mountain Products Single Resistance Band...   \n3       3  7245456313  Black Mountain Products Resistance Band Set wi...   \n4       4  B000002NUS  Outers Universal 32-Piece Blow Molded Gun Clea...   \n\n   price                                              imUrl  \\\n0   9.99  http://ecx.images-amazon.com/images/I/21iMxsyD...   \n1   8.26  http://ecx.images-amazon.com/images/I/51RtwnJw...   \n2  10.49  http://ecx.images-amazon.com/images/I/411Ikpf1...   \n3  32.99  http://ecx.images-amazon.com/images/I/51FdHlZS...   \n4  21.99  http://ecx.images-amazon.com/images/I/510GjWgd...   \n\n                                             related           brand  \\\n0  {'also_bought': ['B000U3YWEM', 'B000U401J6', '...           Ghost   \n1  {'also_bought': ['B0081O93N2', 'B00EYTCHJA', '...                   \n2  {'also_bought': ['B00DDBS2JE', 'B00H1KNHE8', '...  Black Mountain   \n3  {'also_bought': ['1612431712', 'B00GSBMW2Y', '...  Black Mountain   \n4  {'also_bought': ['B000PW64JY', 'B0010KHNEU', '...          Outers   \n\n                                          categories  \\\n0  [['Sports & Outdoors', 'Hunting & Fishing', 'H...   \n1  [['Sports & Outdoors', 'Cycling', 'Lights & Re...   \n2  [['Sports & Outdoors', 'Exercise & Fitness', '...   \n3  [['Sports & Outdoors', 'Exercise & Fitness', '...   \n4  [['Sports & Outdoors', 'Hunting & Fishing', 'H...   \n\n                           salesRank  \\\n0  {'Sports &amp; Outdoors': 172909}   \n1   {'Sports &amp; Outdoors': 14293}   \n2    {'Sports &amp; Outdoors': 1010}   \n3      {'Sports &amp; Outdoors': 15}   \n4   {'Sports &amp; Outdoors': 26738}   \n\n                                         description  \n0  Ghost Armorer Tool (1). The GAT is made with a...  \n1  This newly-designed Laser tail light can emit ...  \n2  Black Mountain Products single resistance band...  \n3  [if gte mso 9]><xml> <o:OfficeDocumentSettings...  \n4  Outers now offers this rigid and durable hard ...  ",
      "text/html": "<div>\n<style scoped>\n    .dataframe tbody tr th:only-of-type {\n        vertical-align: middle;\n    }\n\n    .dataframe tbody tr th {\n        vertical-align: top;\n    }\n\n    .dataframe thead th {\n        text-align: right;\n    }\n</style>\n<table border=\"1\" class=\"dataframe\">\n  <thead>\n    <tr style=\"text-align: right;\">\n      <th></th>\n      <th>itemID</th>\n      <th>asin</th>\n      <th>title</th>\n      <th>price</th>\n      <th>imUrl</th>\n      <th>related</th>\n      <th>brand</th>\n      <th>categories</th>\n      <th>salesRank</th>\n      <th>description</th>\n    </tr>\n  </thead>\n  <tbody>\n    <tr>\n      <th>0</th>\n      <td>0</td>\n      <td>1881509818</td>\n      <td>Ghost Inc Glock Armorers Tool 3/32 Punch</td>\n      <td>9.99</td>\n      <td>http://ecx.images-amazon.com/images/I/21iMxsyD...</td>\n      <td>{'also_bought': ['B000U3YWEM', 'B000U401J6', '...</td>\n      <td>Ghost</td>\n      <td>[['Sports &amp; Outdoors', 'Hunting &amp; Fishing', 'H...</td>\n      <td>{'Sports &amp;amp; Outdoors': 172909}</td>\n      <td>Ghost Armorer Tool (1). The GAT is made with a...</td>\n    </tr>\n    <tr>\n      <th>1</th>\n      <td>1</td>\n      <td>2094869245</td>\n      <td>5 LED Bicycle Rear Tail Red Bike Torch Laser B...</td>\n      <td>8.26</td>\n      <td>http://ecx.images-amazon.com/images/I/51RtwnJw...</td>\n      <td>{'also_bought': ['B0081O93N2', 'B00EYTCHJA', '...</td>\n      <td></td>\n      <td>[['Sports &amp; Outdoors', 'Cycling', 'Lights &amp; Re...</td>\n      <td>{'Sports &amp;amp; Outdoors': 14293}</td>\n      <td>This newly-designed Laser tail light can emit ...</td>\n    </tr>\n    <tr>\n      <th>2</th>\n      <td>2</td>\n      <td>7245456259</td>\n      <td>Black Mountain Products Single Resistance Band...</td>\n      <td>10.49</td>\n      <td>http://ecx.images-amazon.com/images/I/411Ikpf1...</td>\n      <td>{'also_bought': ['B00DDBS2JE', 'B00H1KNHE8', '...</td>\n      <td>Black Mountain</td>\n      <td>[['Sports &amp; Outdoors', 'Exercise &amp; Fitness', '...</td>\n      <td>{'Sports &amp;amp; Outdoors': 1010}</td>\n      <td>Black Mountain Products single resistance band...</td>\n    </tr>\n    <tr>\n      <th>3</th>\n      <td>3</td>\n      <td>7245456313</td>\n      <td>Black Mountain Products Resistance Band Set wi...</td>\n      <td>32.99</td>\n      <td>http://ecx.images-amazon.com/images/I/51FdHlZS...</td>\n      <td>{'also_bought': ['1612431712', 'B00GSBMW2Y', '...</td>\n      <td>Black Mountain</td>\n      <td>[['Sports &amp; Outdoors', 'Exercise &amp; Fitness', '...</td>\n      <td>{'Sports &amp;amp; Outdoors': 15}</td>\n      <td>[if gte mso 9]&gt;&lt;xml&gt; &lt;o:OfficeDocumentSettings...</td>\n    </tr>\n    <tr>\n      <th>4</th>\n      <td>4</td>\n      <td>B000002NUS</td>\n      <td>Outers Universal 32-Piece Blow Molded Gun Clea...</td>\n      <td>21.99</td>\n      <td>http://ecx.images-amazon.com/images/I/510GjWgd...</td>\n      <td>{'also_bought': ['B000PW64JY', 'B0010KHNEU', '...</td>\n      <td>Outers</td>\n      <td>[['Sports &amp; Outdoors', 'Hunting &amp; Fishing', 'H...</td>\n      <td>{'Sports &amp;amp; Outdoors': 26738}</td>\n      <td>Outers now offers this rigid and durable hard ...</td>\n    </tr>\n  </tbody>\n</table>\n</div>"
     },
     "execution_count": 11,
     "metadata": {},
     "output_type": "execute_result"
    }
   ],
   "source": [
    "df[:5]"
   ],
   "metadata": {
    "collapsed": false,
    "pycharm": {
     "name": "#%%\n"
    }
   }
  },
  {
   "cell_type": "code",
   "execution_count": 12,
   "outputs": [],
   "source": [
    "import array\n",
    "\n",
    "def readImageFeatures(path):\n",
    "  f = open(path, 'rb')\n",
    "  while True:\n",
    "    asin = f.read(10).decode('UTF-8')\n",
    "    if asin == '': break\n",
    "    a = array.array('f')\n",
    "    a.fromfile(f, 4096)\n",
    "    yield asin, a.tolist()"
   ],
   "metadata": {
    "collapsed": false,
    "pycharm": {
     "name": "#%%\n"
    }
   }
  },
  {
   "cell_type": "code",
   "execution_count": 13,
   "outputs": [
    {
     "name": "stdout",
     "output_type": "stream",
     "text": [
      "# of items not in processed image features: 180\n",
      "done!\n"
     ]
    }
   ],
   "source": [
    "\n",
    "img_data = readImageFeatures(\"image_features_Sports_and_Outdoors.b\")\n",
    "item2id = dict(zip(df['asin'], df['itemID']))\n",
    "\n",
    "feats = {}\n",
    "avg = []\n",
    "for d in img_data:\n",
    "    if d[0] in item2id:\n",
    "        feats[int(item2id[d[0]])] = d[1]\n",
    "        avg.append(d[1])\n",
    "avg = np.array(avg).mean(0).tolist()\n",
    "\n",
    "ret = []\n",
    "non_no = []\n",
    "for i in range(len(item2id)):\n",
    "    if i in feats:\n",
    "        ret.append(feats[i])\n",
    "    else:\n",
    "        non_no.append(i)\n",
    "        ret.append(avg)\n",
    "\n",
    "print('# of items not in processed image features:', len(non_no))\n",
    "assert len(ret) == len(item2id)\n",
    "np.save('image_feat.npy', np.array(ret))\n",
    "np.savetxt(\"missed_img_itemIDs.csv\", non_no, delimiter =\",\", fmt ='%d')\n",
    "print('done!')"
   ],
   "metadata": {
    "collapsed": false,
    "pycharm": {
     "name": "#%%\n"
    }
   }
  }
 ],
 "metadata": {
  "kernelspec": {
   "display_name": "Python 3",
   "language": "python",
   "name": "python3"
  },
  "language_info": {
   "codemirror_mode": {
    "name": "ipython",
    "version": 2
   },
   "file_extension": ".py",
   "mimetype": "text/x-python",
   "name": "python",
   "nbconvert_exporter": "python",
   "pygments_lexer": "ipython2",
   "version": "2.7.6"
  }
 },
 "nbformat": 4,
 "nbformat_minor": 0
}