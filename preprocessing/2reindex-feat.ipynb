{
 "cells": [
  {
   "cell_type": "markdown",
   "source": [
    "- Reindex item feature ID with IDs generated in 0rating2inter.ipynb"
   ],
   "metadata": {
    "collapsed": false
   }
  },
  {
   "cell_type": "code",
   "execution_count": 1,
   "metadata": {
    "collapsed": true
   },
   "outputs": [],
   "source": [
    "import os\n",
    "import pandas as pd"
   ]
  },
  {
   "cell_type": "code",
   "execution_count": 2,
   "outputs": [
    {
     "data": {
      "text/plain": "'/home/xin/XMMRec/Sports14'"
     },
     "execution_count": 2,
     "metadata": {},
     "output_type": "execute_result"
    }
   ],
   "source": [
    "os.chdir('your dataset folder path')\n",
    "os.getcwd()"
   ],
   "metadata": {
    "collapsed": false,
    "pycharm": {
     "name": "#%%\n"
    }
   }
  },
  {
   "cell_type": "code",
   "execution_count": 3,
   "outputs": [
    {
     "name": "stdout",
     "output_type": "stream",
     "text": [
      "shape: (18357, 2)\n"
     ]
    },
    {
     "data": {
      "text/plain": "         asin  itemID\n0  1881509818       0\n1  2094869245       1\n2  7245456259       2\n3  7245456313       3",
      "text/html": "<div>\n<style scoped>\n    .dataframe tbody tr th:only-of-type {\n        vertical-align: middle;\n    }\n\n    .dataframe tbody tr th {\n        vertical-align: top;\n    }\n\n    .dataframe thead th {\n        text-align: right;\n    }\n</style>\n<table border=\"1\" class=\"dataframe\">\n  <thead>\n    <tr style=\"text-align: right;\">\n      <th></th>\n      <th>asin</th>\n      <th>itemID</th>\n    </tr>\n  </thead>\n  <tbody>\n    <tr>\n      <th>0</th>\n      <td>1881509818</td>\n      <td>0</td>\n    </tr>\n    <tr>\n      <th>1</th>\n      <td>2094869245</td>\n      <td>1</td>\n    </tr>\n    <tr>\n      <th>2</th>\n      <td>7245456259</td>\n      <td>2</td>\n    </tr>\n    <tr>\n      <th>3</th>\n      <td>7245456313</td>\n      <td>3</td>\n    </tr>\n  </tbody>\n</table>\n</div>"
     },
     "execution_count": 3,
     "metadata": {},
     "output_type": "execute_result"
    }
   ],
   "source": [
    "# load item mapping\n",
    "i_id_mapping = 'i_id_mapping.csv'\n",
    "df = pd.read_csv(i_id_mapping, sep='\\t')\n",
    "print(f'shape: {df.shape}')\n",
    "df[:4]"
   ],
   "metadata": {
    "collapsed": false,
    "pycharm": {
     "name": "#%%\n"
    }
   }
  },
  {
   "cell_type": "code",
   "execution_count": 4,
   "outputs": [
    {
     "name": "stdout",
     "output_type": "stream",
     "text": [
      "0 Extracting U-I interactions.\n",
      "Total records: (532197, 9)\n"
     ]
    },
    {
     "data": {
      "text/plain": "         asin                           title  price  \\\n0  0000032069  Adult Ballet Tutu Cheetah Pink   7.89   \n1  0000031909     Girls Ballet Tutu Neon Pink   7.00   \n2  0000032034        Adult Ballet Tutu Yellow   7.87   \n\n                                               imUrl  \\\n0  http://ecx.images-amazon.com/images/I/51EzU6qu...   \n1  http://ecx.images-amazon.com/images/I/41xBoP0F...   \n2  http://ecx.images-amazon.com/images/I/21GNUNIa...   \n\n                                             related     brand  \\\n0  {'also_bought': ['0000032050', 'B00D0DJAEG', '...  BubuBibi   \n1  {'also_bought': ['B002BZX8Z6', 'B00JHONN1S', '...   Unknown   \n2  {'also_bought': ['B00D2JSRFQ', '0000032042', '...  BubuBibi   \n\n                                          categories  \\\n0  [[Sports & Outdoors, Other Sports, Dance, Clot...   \n1         [[Sports & Outdoors, Other Sports, Dance]]   \n2  [[Sports & Outdoors, Other Sports, Dance, Clot...   \n\n                  salesRank                                        description  \n0                       NaN                                                NaN  \n1  {'Toys & Games': 201847}  High quality 3 layer ballet tutu. 12 inches in...  \n2                       NaN                                                NaN  ",
      "text/html": "<div>\n<style scoped>\n    .dataframe tbody tr th:only-of-type {\n        vertical-align: middle;\n    }\n\n    .dataframe tbody tr th {\n        vertical-align: top;\n    }\n\n    .dataframe thead th {\n        text-align: right;\n    }\n</style>\n<table border=\"1\" class=\"dataframe\">\n  <thead>\n    <tr style=\"text-align: right;\">\n      <th></th>\n      <th>asin</th>\n      <th>title</th>\n      <th>price</th>\n      <th>imUrl</th>\n      <th>related</th>\n      <th>brand</th>\n      <th>categories</th>\n      <th>salesRank</th>\n      <th>description</th>\n    </tr>\n  </thead>\n  <tbody>\n    <tr>\n      <th>0</th>\n      <td>0000032069</td>\n      <td>Adult Ballet Tutu Cheetah Pink</td>\n      <td>7.89</td>\n      <td>http://ecx.images-amazon.com/images/I/51EzU6qu...</td>\n      <td>{'also_bought': ['0000032050', 'B00D0DJAEG', '...</td>\n      <td>BubuBibi</td>\n      <td>[[Sports &amp; Outdoors, Other Sports, Dance, Clot...</td>\n      <td>NaN</td>\n      <td>NaN</td>\n    </tr>\n    <tr>\n      <th>1</th>\n      <td>0000031909</td>\n      <td>Girls Ballet Tutu Neon Pink</td>\n      <td>7.00</td>\n      <td>http://ecx.images-amazon.com/images/I/41xBoP0F...</td>\n      <td>{'also_bought': ['B002BZX8Z6', 'B00JHONN1S', '...</td>\n      <td>Unknown</td>\n      <td>[[Sports &amp; Outdoors, Other Sports, Dance]]</td>\n      <td>{'Toys &amp; Games': 201847}</td>\n      <td>High quality 3 layer ballet tutu. 12 inches in...</td>\n    </tr>\n    <tr>\n      <th>2</th>\n      <td>0000032034</td>\n      <td>Adult Ballet Tutu Yellow</td>\n      <td>7.87</td>\n      <td>http://ecx.images-amazon.com/images/I/21GNUNIa...</td>\n      <td>{'also_bought': ['B00D2JSRFQ', '0000032042', '...</td>\n      <td>BubuBibi</td>\n      <td>[[Sports &amp; Outdoors, Other Sports, Dance, Clot...</td>\n      <td>NaN</td>\n      <td>NaN</td>\n    </tr>\n  </tbody>\n</table>\n</div>"
     },
     "execution_count": 4,
     "metadata": {},
     "output_type": "execute_result"
    }
   ],
   "source": [
    "\n",
    "import gzip, json\n",
    "meta_file = 'meta_Sports_and_Outdoors.json.gz'\n",
    "\n",
    "print('0 Extracting U-I interactions.')\n",
    "\n",
    "def parse(path):\n",
    "  g = gzip.open(path, 'rb')\n",
    "  for l in g:\n",
    "    yield eval(l)\n",
    "\n",
    "def getDF(path):\n",
    "  i = 0\n",
    "  df = {}\n",
    "  for d in parse(path):\n",
    "    df[i] = d\n",
    "    i += 1\n",
    "  return pd.DataFrame.from_dict(df, orient='index')\n",
    "\n",
    "meta_df = getDF(meta_file)\n",
    "\n",
    "print(f'Total records: {meta_df.shape}')\n",
    "meta_df[:3]"
   ],
   "metadata": {
    "collapsed": false,
    "pycharm": {
     "name": "#%%\n"
    }
   }
  },
  {
   "cell_type": "code",
   "execution_count": 5,
   "outputs": [
    {
     "name": "stdout",
     "output_type": "stream",
     "text": [
      "shape: (18357, 10)\n"
     ]
    },
    {
     "data": {
      "text/plain": "           asin                                              title  price  \\\n132  1881509818           Ghost Inc Glock Armorers Tool 3/32 Punch   9.99   \n155  2094869245  5 LED Bicycle Rear Tail Red Bike Torch Laser B...   8.26   \n\n                                                 imUrl  \\\n132  http://ecx.images-amazon.com/images/I/21iMxsyD...   \n155  http://ecx.images-amazon.com/images/I/51RtwnJw...   \n\n                                               related  brand  \\\n132  {'also_bought': ['B000U3YWEM', 'B000U401J6', '...  Ghost   \n155  {'also_bought': ['B0081O93N2', 'B00EYTCHJA', '...          \n\n                                            categories  \\\n132  [[Sports & Outdoors, Hunting & Fishing, Huntin...   \n155  [[Sports & Outdoors, Cycling, Lights & Reflect...   \n\n                             salesRank  \\\n132  {'Sports &amp; Outdoors': 172909}   \n155   {'Sports &amp; Outdoors': 14293}   \n\n                                           description  itemID  \n132  Ghost Armorer Tool (1). The GAT is made with a...       0  \n155  This newly-designed Laser tail light can emit ...       1  ",
      "text/html": "<div>\n<style scoped>\n    .dataframe tbody tr th:only-of-type {\n        vertical-align: middle;\n    }\n\n    .dataframe tbody tr th {\n        vertical-align: top;\n    }\n\n    .dataframe thead th {\n        text-align: right;\n    }\n</style>\n<table border=\"1\" class=\"dataframe\">\n  <thead>\n    <tr style=\"text-align: right;\">\n      <th></th>\n      <th>asin</th>\n      <th>title</th>\n      <th>price</th>\n      <th>imUrl</th>\n      <th>related</th>\n      <th>brand</th>\n      <th>categories</th>\n      <th>salesRank</th>\n      <th>description</th>\n      <th>itemID</th>\n    </tr>\n  </thead>\n  <tbody>\n    <tr>\n      <th>132</th>\n      <td>1881509818</td>\n      <td>Ghost Inc Glock Armorers Tool 3/32 Punch</td>\n      <td>9.99</td>\n      <td>http://ecx.images-amazon.com/images/I/21iMxsyD...</td>\n      <td>{'also_bought': ['B000U3YWEM', 'B000U401J6', '...</td>\n      <td>Ghost</td>\n      <td>[[Sports &amp; Outdoors, Hunting &amp; Fishing, Huntin...</td>\n      <td>{'Sports &amp;amp; Outdoors': 172909}</td>\n      <td>Ghost Armorer Tool (1). The GAT is made with a...</td>\n      <td>0</td>\n    </tr>\n    <tr>\n      <th>155</th>\n      <td>2094869245</td>\n      <td>5 LED Bicycle Rear Tail Red Bike Torch Laser B...</td>\n      <td>8.26</td>\n      <td>http://ecx.images-amazon.com/images/I/51RtwnJw...</td>\n      <td>{'also_bought': ['B0081O93N2', 'B00EYTCHJA', '...</td>\n      <td></td>\n      <td>[[Sports &amp; Outdoors, Cycling, Lights &amp; Reflect...</td>\n      <td>{'Sports &amp;amp; Outdoors': 14293}</td>\n      <td>This newly-designed Laser tail light can emit ...</td>\n      <td>1</td>\n    </tr>\n  </tbody>\n</table>\n</div>"
     },
     "execution_count": 5,
     "metadata": {},
     "output_type": "execute_result"
    }
   ],
   "source": [
    "# remapping\n",
    "map_dict = dict(zip(df['asin'], df['itemID']))\n",
    "\n",
    "meta_df['itemID'] = meta_df['asin'].map(map_dict)\n",
    "meta_df.dropna(subset=['itemID'], inplace=True)\n",
    "meta_df['itemID'] = meta_df['itemID'].astype('int64')\n",
    "#meta_df['description'] = meta_df['description'].fillna(\" \")\n",
    "meta_df.sort_values(by=['itemID'], inplace=True)\n",
    "\n",
    "print(f'shape: {meta_df.shape}')\n",
    "meta_df[:2]"
   ],
   "metadata": {
    "collapsed": false,
    "pycharm": {
     "name": "#%%\n"
    }
   }
  },
  {
   "cell_type": "code",
   "execution_count": 6,
   "outputs": [
    {
     "name": "stdout",
     "output_type": "stream",
     "text": [
      "new column names: ['itemID', 'asin', 'title', 'price', 'imUrl', 'related', 'brand', 'categories', 'salesRank', 'description']\n"
     ]
    }
   ],
   "source": [
    "ori_cols = meta_df.columns.tolist()\n",
    "\n",
    "ret_cols = [ori_cols[-1]] + ori_cols[:-1]\n",
    "print(f'new column names: {ret_cols}')"
   ],
   "metadata": {
    "collapsed": false,
    "pycharm": {
     "name": "#%%\n"
    }
   }
  },
  {
   "cell_type": "code",
   "execution_count": 7,
   "outputs": [
    {
     "data": {
      "text/plain": "           asin                                              title  price  \\\n132  1881509818           Ghost Inc Glock Armorers Tool 3/32 Punch   9.99   \n155  2094869245  5 LED Bicycle Rear Tail Red Bike Torch Laser B...   8.26   \n201  7245456259  Black Mountain Products Single Resistance Band...  10.49   \n\n                                                 imUrl  \\\n132  http://ecx.images-amazon.com/images/I/21iMxsyD...   \n155  http://ecx.images-amazon.com/images/I/51RtwnJw...   \n201  http://ecx.images-amazon.com/images/I/411Ikpf1...   \n\n                                               related           brand  \\\n132  {'also_bought': ['B000U3YWEM', 'B000U401J6', '...           Ghost   \n155  {'also_bought': ['B0081O93N2', 'B00EYTCHJA', '...                   \n201  {'also_bought': ['B00DDBS2JE', 'B00H1KNHE8', '...  Black Mountain   \n\n                                            categories  \\\n132  [[Sports & Outdoors, Hunting & Fishing, Huntin...   \n155  [[Sports & Outdoors, Cycling, Lights & Reflect...   \n201  [[Sports & Outdoors, Exercise & Fitness, Acces...   \n\n                             salesRank  \\\n132  {'Sports &amp; Outdoors': 172909}   \n155   {'Sports &amp; Outdoors': 14293}   \n201    {'Sports &amp; Outdoors': 1010}   \n\n                                           description  itemID  \n132  Ghost Armorer Tool (1). The GAT is made with a...       0  \n155  This newly-designed Laser tail light can emit ...       1  \n201  Black Mountain Products single resistance band...       2  ",
      "text/html": "<div>\n<style scoped>\n    .dataframe tbody tr th:only-of-type {\n        vertical-align: middle;\n    }\n\n    .dataframe tbody tr th {\n        vertical-align: top;\n    }\n\n    .dataframe thead th {\n        text-align: right;\n    }\n</style>\n<table border=\"1\" class=\"dataframe\">\n  <thead>\n    <tr style=\"text-align: right;\">\n      <th></th>\n      <th>asin</th>\n      <th>title</th>\n      <th>price</th>\n      <th>imUrl</th>\n      <th>related</th>\n      <th>brand</th>\n      <th>categories</th>\n      <th>salesRank</th>\n      <th>description</th>\n      <th>itemID</th>\n    </tr>\n  </thead>\n  <tbody>\n    <tr>\n      <th>132</th>\n      <td>1881509818</td>\n      <td>Ghost Inc Glock Armorers Tool 3/32 Punch</td>\n      <td>9.99</td>\n      <td>http://ecx.images-amazon.com/images/I/21iMxsyD...</td>\n      <td>{'also_bought': ['B000U3YWEM', 'B000U401J6', '...</td>\n      <td>Ghost</td>\n      <td>[[Sports &amp; Outdoors, Hunting &amp; Fishing, Huntin...</td>\n      <td>{'Sports &amp;amp; Outdoors': 172909}</td>\n      <td>Ghost Armorer Tool (1). The GAT is made with a...</td>\n      <td>0</td>\n    </tr>\n    <tr>\n      <th>155</th>\n      <td>2094869245</td>\n      <td>5 LED Bicycle Rear Tail Red Bike Torch Laser B...</td>\n      <td>8.26</td>\n      <td>http://ecx.images-amazon.com/images/I/51RtwnJw...</td>\n      <td>{'also_bought': ['B0081O93N2', 'B00EYTCHJA', '...</td>\n      <td></td>\n      <td>[[Sports &amp; Outdoors, Cycling, Lights &amp; Reflect...</td>\n      <td>{'Sports &amp;amp; Outdoors': 14293}</td>\n      <td>This newly-designed Laser tail light can emit ...</td>\n      <td>1</td>\n    </tr>\n    <tr>\n      <th>201</th>\n      <td>7245456259</td>\n      <td>Black Mountain Products Single Resistance Band...</td>\n      <td>10.49</td>\n      <td>http://ecx.images-amazon.com/images/I/411Ikpf1...</td>\n      <td>{'also_bought': ['B00DDBS2JE', 'B00H1KNHE8', '...</td>\n      <td>Black Mountain</td>\n      <td>[[Sports &amp; Outdoors, Exercise &amp; Fitness, Acces...</td>\n      <td>{'Sports &amp;amp; Outdoors': 1010}</td>\n      <td>Black Mountain Products single resistance band...</td>\n      <td>2</td>\n    </tr>\n  </tbody>\n</table>\n</div>"
     },
     "execution_count": 7,
     "metadata": {},
     "output_type": "execute_result"
    }
   ],
   "source": [
    "meta_df[:3]"
   ],
   "metadata": {
    "collapsed": false,
    "pycharm": {
     "name": "#%%\n"
    }
   }
  },
  {
   "cell_type": "code",
   "execution_count": 8,
   "outputs": [
    {
     "name": "stdout",
     "output_type": "stream",
     "text": [
      "done!\n"
     ]
    }
   ],
   "source": [
    "ret_df = meta_df[ret_cols]\n",
    "# dump\n",
    "ret_df.to_csv(os.path.join('./', 'meta-sports.csv'), index=False)\n",
    "print('done!')"
   ],
   "metadata": {
    "collapsed": false,
    "pycharm": {
     "name": "#%%\n"
    }
   }
  },
  {
   "cell_type": "markdown",
   "source": [],
   "metadata": {
    "collapsed": false
   }
  },
  {
   "cell_type": "markdown",
   "source": [
    "## Reload"
   ],
   "metadata": {
    "collapsed": false
   }
  },
  {
   "cell_type": "code",
   "execution_count": 9,
   "outputs": [
    {
     "name": "stdout",
     "output_type": "stream",
     "text": [
      "shape: (18357, 10)\n"
     ]
    },
    {
     "data": {
      "text/plain": "   itemID        asin                                              title  \\\n0       0  1881509818           Ghost Inc Glock Armorers Tool 3/32 Punch   \n1       1  2094869245  5 LED Bicycle Rear Tail Red Bike Torch Laser B...   \n2       2  7245456259  Black Mountain Products Single Resistance Band...   \n3       3  7245456313  Black Mountain Products Resistance Band Set wi...   \n\n   price                                              imUrl  \\\n0   9.99  http://ecx.images-amazon.com/images/I/21iMxsyD...   \n1   8.26  http://ecx.images-amazon.com/images/I/51RtwnJw...   \n2  10.49  http://ecx.images-amazon.com/images/I/411Ikpf1...   \n3  32.99  http://ecx.images-amazon.com/images/I/51FdHlZS...   \n\n                                             related           brand  \\\n0  {'also_bought': ['B000U3YWEM', 'B000U401J6', '...           Ghost   \n1  {'also_bought': ['B0081O93N2', 'B00EYTCHJA', '...             NaN   \n2  {'also_bought': ['B00DDBS2JE', 'B00H1KNHE8', '...  Black Mountain   \n3  {'also_bought': ['1612431712', 'B00GSBMW2Y', '...  Black Mountain   \n\n                                          categories  \\\n0  [['Sports & Outdoors', 'Hunting & Fishing', 'H...   \n1  [['Sports & Outdoors', 'Cycling', 'Lights & Re...   \n2  [['Sports & Outdoors', 'Exercise & Fitness', '...   \n3  [['Sports & Outdoors', 'Exercise & Fitness', '...   \n\n                           salesRank  \\\n0  {'Sports &amp; Outdoors': 172909}   \n1   {'Sports &amp; Outdoors': 14293}   \n2    {'Sports &amp; Outdoors': 1010}   \n3      {'Sports &amp; Outdoors': 15}   \n\n                                         description  \n0  Ghost Armorer Tool (1). The GAT is made with a...  \n1  This newly-designed Laser tail light can emit ...  \n2  Black Mountain Products single resistance band...  \n3  [if gte mso 9]><xml> <o:OfficeDocumentSettings...  ",
      "text/html": "<div>\n<style scoped>\n    .dataframe tbody tr th:only-of-type {\n        vertical-align: middle;\n    }\n\n    .dataframe tbody tr th {\n        vertical-align: top;\n    }\n\n    .dataframe thead th {\n        text-align: right;\n    }\n</style>\n<table border=\"1\" class=\"dataframe\">\n  <thead>\n    <tr style=\"text-align: right;\">\n      <th></th>\n      <th>itemID</th>\n      <th>asin</th>\n      <th>title</th>\n      <th>price</th>\n      <th>imUrl</th>\n      <th>related</th>\n      <th>brand</th>\n      <th>categories</th>\n      <th>salesRank</th>\n      <th>description</th>\n    </tr>\n  </thead>\n  <tbody>\n    <tr>\n      <th>0</th>\n      <td>0</td>\n      <td>1881509818</td>\n      <td>Ghost Inc Glock Armorers Tool 3/32 Punch</td>\n      <td>9.99</td>\n      <td>http://ecx.images-amazon.com/images/I/21iMxsyD...</td>\n      <td>{'also_bought': ['B000U3YWEM', 'B000U401J6', '...</td>\n      <td>Ghost</td>\n      <td>[['Sports &amp; Outdoors', 'Hunting &amp; Fishing', 'H...</td>\n      <td>{'Sports &amp;amp; Outdoors': 172909}</td>\n      <td>Ghost Armorer Tool (1). The GAT is made with a...</td>\n    </tr>\n    <tr>\n      <th>1</th>\n      <td>1</td>\n      <td>2094869245</td>\n      <td>5 LED Bicycle Rear Tail Red Bike Torch Laser B...</td>\n      <td>8.26</td>\n      <td>http://ecx.images-amazon.com/images/I/51RtwnJw...</td>\n      <td>{'also_bought': ['B0081O93N2', 'B00EYTCHJA', '...</td>\n      <td>NaN</td>\n      <td>[['Sports &amp; Outdoors', 'Cycling', 'Lights &amp; Re...</td>\n      <td>{'Sports &amp;amp; Outdoors': 14293}</td>\n      <td>This newly-designed Laser tail light can emit ...</td>\n    </tr>\n    <tr>\n      <th>2</th>\n      <td>2</td>\n      <td>7245456259</td>\n      <td>Black Mountain Products Single Resistance Band...</td>\n      <td>10.49</td>\n      <td>http://ecx.images-amazon.com/images/I/411Ikpf1...</td>\n      <td>{'also_bought': ['B00DDBS2JE', 'B00H1KNHE8', '...</td>\n      <td>Black Mountain</td>\n      <td>[['Sports &amp; Outdoors', 'Exercise &amp; Fitness', '...</td>\n      <td>{'Sports &amp;amp; Outdoors': 1010}</td>\n      <td>Black Mountain Products single resistance band...</td>\n    </tr>\n    <tr>\n      <th>3</th>\n      <td>3</td>\n      <td>7245456313</td>\n      <td>Black Mountain Products Resistance Band Set wi...</td>\n      <td>32.99</td>\n      <td>http://ecx.images-amazon.com/images/I/51FdHlZS...</td>\n      <td>{'also_bought': ['1612431712', 'B00GSBMW2Y', '...</td>\n      <td>Black Mountain</td>\n      <td>[['Sports &amp; Outdoors', 'Exercise &amp; Fitness', '...</td>\n      <td>{'Sports &amp;amp; Outdoors': 15}</td>\n      <td>[if gte mso 9]&gt;&lt;xml&gt; &lt;o:OfficeDocumentSettings...</td>\n    </tr>\n  </tbody>\n</table>\n</div>"
     },
     "execution_count": 9,
     "metadata": {},
     "output_type": "execute_result"
    }
   ],
   "source": [
    "indexed_df = pd.read_csv('meta-sports.csv')\n",
    "print(f'shape: {indexed_df.shape}')\n",
    "indexed_df[:4]"
   ],
   "metadata": {
    "collapsed": false,
    "pycharm": {
     "name": "#%%\n"
    }
   }
  },
  {
   "cell_type": "code",
   "execution_count": 10,
   "outputs": [
    {
     "name": "stdout",
     "output_type": "stream",
     "text": [
      "# of unique items: 18357\n",
      "min/max of unique learners: 0/18356\n"
     ]
    }
   ],
   "source": [
    "## Reload\n",
    "\n",
    "i_uni = indexed_df['itemID'].unique()\n",
    "\n",
    "print(f'# of unique items: {len(i_uni)}')\n",
    "\n",
    "print('min/max of unique learners: {0}/{1}'.format(min(i_uni), max(i_uni)))"
   ],
   "metadata": {
    "collapsed": false,
    "pycharm": {
     "name": "#%%\n"
    }
   }
  }
 ],
 "metadata": {
  "kernelspec": {
   "display_name": "Python 3",
   "language": "python",
   "name": "python3"
  },
  "language_info": {
   "codemirror_mode": {
    "name": "ipython",
    "version": 2
   },
   "file_extension": ".py",
   "mimetype": "text/x-python",
   "name": "python",
   "nbconvert_exporter": "python",
   "pygments_lexer": "ipython2",
   "version": "2.7.6"
  }
 },
 "nbformat": 4,
 "nbformat_minor": 0
}