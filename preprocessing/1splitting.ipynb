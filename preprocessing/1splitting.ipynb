{
 "cells": [
  {
   "cell_type": "markdown",
   "source": [
    "- Based on generated interactions, perform data splitting\n"
   ],
   "metadata": {
    "collapsed": false
   }
  },
  {
   "cell_type": "code",
   "execution_count": 1,
   "metadata": {
    "collapsed": true
   },
   "outputs": [],
   "source": [
    "import os, csv\n",
    "import pandas as pd"
   ]
  },
  {
   "cell_type": "code",
   "execution_count": null,
   "outputs": [],
   "source": [
    "os.chdir('your dataset folder path')\n",
    "os.getcwd()"
   ],
   "metadata": {
    "collapsed": false,
    "pycharm": {
     "name": "#%%\n",
     "is_executing": true
    }
   }
  },
  {
   "cell_type": "markdown",
   "source": [
    "## Load interactions"
   ],
   "metadata": {
    "collapsed": false
   }
  },
  {
   "cell_type": "code",
   "execution_count": 3,
   "outputs": [
    {
     "name": "stdout",
     "output_type": "stream",
     "text": [
      "shape: (296337, 5)\n"
     ]
    },
    {
     "data": {
      "text/plain": "   userID  itemID  rating   timestamp  x_label\n0       1       0     5.0  1328140800        0\n1       2       0     4.0  1330387200        0\n2       3       0     4.0  1328400000        0\n3       4       0     4.0  1366675200        0",
      "text/html": "<div>\n<style scoped>\n    .dataframe tbody tr th:only-of-type {\n        vertical-align: middle;\n    }\n\n    .dataframe tbody tr th {\n        vertical-align: top;\n    }\n\n    .dataframe thead th {\n        text-align: right;\n    }\n</style>\n<table border=\"1\" class=\"dataframe\">\n  <thead>\n    <tr style=\"text-align: right;\">\n      <th></th>\n      <th>userID</th>\n      <th>itemID</th>\n      <th>rating</th>\n      <th>timestamp</th>\n      <th>x_label</th>\n    </tr>\n  </thead>\n  <tbody>\n    <tr>\n      <th>0</th>\n      <td>1</td>\n      <td>0</td>\n      <td>5.0</td>\n      <td>1328140800</td>\n      <td>0</td>\n    </tr>\n    <tr>\n      <th>1</th>\n      <td>2</td>\n      <td>0</td>\n      <td>4.0</td>\n      <td>1330387200</td>\n      <td>0</td>\n    </tr>\n    <tr>\n      <th>2</th>\n      <td>3</td>\n      <td>0</td>\n      <td>4.0</td>\n      <td>1328400000</td>\n      <td>0</td>\n    </tr>\n    <tr>\n      <th>3</th>\n      <td>4</td>\n      <td>0</td>\n      <td>4.0</td>\n      <td>1366675200</td>\n      <td>0</td>\n    </tr>\n  </tbody>\n</table>\n</div>"
     },
     "execution_count": 3,
     "metadata": {},
     "output_type": "execute_result"
    }
   ],
   "source": [
    "rslt_file = 'sports-indexed.inter'\n",
    "df = pd.read_csv(rslt_file, sep='\\t')\n",
    "print(f'shape: {df.shape}')\n",
    "df[:4]"
   ],
   "metadata": {
    "collapsed": false,
    "pycharm": {
     "name": "#%%\n"
    }
   }
  },
  {
   "cell_type": "code",
   "execution_count": 4,
   "outputs": [],
   "source": [
    "import random\n",
    "import numpy as np"
   ],
   "metadata": {
    "collapsed": false,
    "pycharm": {
     "name": "#%%\n"
    }
   }
  },
  {
   "cell_type": "code",
   "execution_count": 4,
   "outputs": [
    {
     "data": {
      "text/plain": "        userID  itemID  rating   timestamp  x_label\n154667       0   11981     2.0  1390694400        1\n295557       0   15852     5.0  1390694400        1\n189316       0   17787     3.0  1391990400        2\n151302       0       0     5.0  1390694400        1\n1820         0    3369     5.0  1405123200        2\n60040        0   13372     5.0  1391990400        2\n199192       0    5458     5.0  1405123200        2\n163234       0    3327     3.0  1391990400        2\n60837        1    2322     5.0  1337212800        0\n233786       1    4123     5.0  1354838400        0\n163460       1   14212     5.0  1368230400        0\n206628       1    1542     4.0  1302220800        0\n261633       1    8802     4.0  1368230400        0\n99658        1    9198     5.0  1318377600        0\n268935       1    7215     5.0  1285372800        0\n77956        1   13468     5.0  1328140800        0\n105444       1    2374     5.0  1391558400        1\n237889       1    7169     5.0  1302220800        0\n173295       1    6677     5.0  1318377600        0\n50074        1   15278     5.0  1344902400        0",
      "text/html": "<div>\n<style scoped>\n    .dataframe tbody tr th:only-of-type {\n        vertical-align: middle;\n    }\n\n    .dataframe tbody tr th {\n        vertical-align: top;\n    }\n\n    .dataframe thead th {\n        text-align: right;\n    }\n</style>\n<table border=\"1\" class=\"dataframe\">\n  <thead>\n    <tr style=\"text-align: right;\">\n      <th></th>\n      <th>userID</th>\n      <th>itemID</th>\n      <th>rating</th>\n      <th>timestamp</th>\n      <th>x_label</th>\n    </tr>\n  </thead>\n  <tbody>\n    <tr>\n      <th>154667</th>\n      <td>0</td>\n      <td>11981</td>\n      <td>2.0</td>\n      <td>1390694400</td>\n      <td>1</td>\n    </tr>\n    <tr>\n      <th>295557</th>\n      <td>0</td>\n      <td>15852</td>\n      <td>5.0</td>\n      <td>1390694400</td>\n      <td>1</td>\n    </tr>\n    <tr>\n      <th>189316</th>\n      <td>0</td>\n      <td>17787</td>\n      <td>3.0</td>\n      <td>1391990400</td>\n      <td>2</td>\n    </tr>\n    <tr>\n      <th>151302</th>\n      <td>0</td>\n      <td>0</td>\n      <td>5.0</td>\n      <td>1390694400</td>\n      <td>1</td>\n    </tr>\n    <tr>\n      <th>1820</th>\n      <td>0</td>\n      <td>3369</td>\n      <td>5.0</td>\n      <td>1405123200</td>\n      <td>2</td>\n    </tr>\n    <tr>\n      <th>60040</th>\n      <td>0</td>\n      <td>13372</td>\n      <td>5.0</td>\n      <td>1391990400</td>\n      <td>2</td>\n    </tr>\n    <tr>\n      <th>199192</th>\n      <td>0</td>\n      <td>5458</td>\n      <td>5.0</td>\n      <td>1405123200</td>\n      <td>2</td>\n    </tr>\n    <tr>\n      <th>163234</th>\n      <td>0</td>\n      <td>3327</td>\n      <td>3.0</td>\n      <td>1391990400</td>\n      <td>2</td>\n    </tr>\n    <tr>\n      <th>60837</th>\n      <td>1</td>\n      <td>2322</td>\n      <td>5.0</td>\n      <td>1337212800</td>\n      <td>0</td>\n    </tr>\n    <tr>\n      <th>233786</th>\n      <td>1</td>\n      <td>4123</td>\n      <td>5.0</td>\n      <td>1354838400</td>\n      <td>0</td>\n    </tr>\n    <tr>\n      <th>163460</th>\n      <td>1</td>\n      <td>14212</td>\n      <td>5.0</td>\n      <td>1368230400</td>\n      <td>0</td>\n    </tr>\n    <tr>\n      <th>206628</th>\n      <td>1</td>\n      <td>1542</td>\n      <td>4.0</td>\n      <td>1302220800</td>\n      <td>0</td>\n    </tr>\n    <tr>\n      <th>261633</th>\n      <td>1</td>\n      <td>8802</td>\n      <td>4.0</td>\n      <td>1368230400</td>\n      <td>0</td>\n    </tr>\n    <tr>\n      <th>99658</th>\n      <td>1</td>\n      <td>9198</td>\n      <td>5.0</td>\n      <td>1318377600</td>\n      <td>0</td>\n    </tr>\n    <tr>\n      <th>268935</th>\n      <td>1</td>\n      <td>7215</td>\n      <td>5.0</td>\n      <td>1285372800</td>\n      <td>0</td>\n    </tr>\n    <tr>\n      <th>77956</th>\n      <td>1</td>\n      <td>13468</td>\n      <td>5.0</td>\n      <td>1328140800</td>\n      <td>0</td>\n    </tr>\n    <tr>\n      <th>105444</th>\n      <td>1</td>\n      <td>2374</td>\n      <td>5.0</td>\n      <td>1391558400</td>\n      <td>1</td>\n    </tr>\n    <tr>\n      <th>237889</th>\n      <td>1</td>\n      <td>7169</td>\n      <td>5.0</td>\n      <td>1302220800</td>\n      <td>0</td>\n    </tr>\n    <tr>\n      <th>173295</th>\n      <td>1</td>\n      <td>6677</td>\n      <td>5.0</td>\n      <td>1318377600</td>\n      <td>0</td>\n    </tr>\n    <tr>\n      <th>50074</th>\n      <td>1</td>\n      <td>15278</td>\n      <td>5.0</td>\n      <td>1344902400</td>\n      <td>0</td>\n    </tr>\n  </tbody>\n</table>\n</div>"
     },
     "execution_count": 4,
     "metadata": {},
     "output_type": "execute_result"
    }
   ],
   "source": [
    "\n",
    "df = df.sample(frac=1).reset_index(drop=True)\n",
    "\n",
    "df.sort_values(by=['userID'], inplace=True)\n",
    "df[:20]"
   ],
   "metadata": {
    "collapsed": false,
    "pycharm": {
     "name": "#%%\n"
    }
   }
  },
  {
   "cell_type": "code",
   "execution_count": null,
   "outputs": [],
   "source": [
    "uid_field, iid_field = 'userID', 'itemID'\n",
    "\n",
    "uid_freq = df.groupby(uid_field)[iid_field]\n",
    "u_i_dict = {}\n",
    "for u, u_ls in uid_freq:\n",
    "    u_i_dict[u] = list(u_ls)\n",
    "u_i_dict"
   ],
   "metadata": {
    "collapsed": false,
    "pycharm": {
     "name": "#%%\n",
     "is_executing": true
    }
   }
  },
  {
   "cell_type": "code",
   "execution_count": 6,
   "outputs": [
    {
     "data": {
      "text/plain": "[0,\n 0,\n 0,\n 0,\n 0,\n 0,\n 1,\n 2,\n 0,\n 0,\n 0,\n 0,\n 0,\n 0,\n 0,\n 0,\n 0,\n 0,\n 0,\n 0,\n 0,\n 0,\n 0,\n 0,\n 1,\n 2,\n 2,\n 0,\n 0,\n 0,\n 0,\n 0,\n 0,\n 0,\n 0,\n 0,\n 0,\n 0,\n 0,\n 0,\n 0,\n 0,\n 0,\n 0,\n 0,\n 0,\n 1,\n 1,\n 2,\n 2,\n 0,\n 0,\n 0,\n 1,\n 2,\n 0,\n 0,\n 0,\n 0,\n 0,\n 0,\n 0,\n 1,\n 2,\n 0,\n 0,\n 0,\n 0,\n 0,\n 0,\n 0,\n 0,\n 0,\n 0,\n 0,\n 0,\n 0,\n 0,\n 0,\n 0,\n 0,\n 0,\n 0,\n 0,\n 0,\n 0,\n 0,\n 0,\n 0,\n 0,\n 0,\n 0,\n 0,\n 0,\n 0,\n 0,\n 0,\n 0,\n 0,\n 0]"
     },
     "execution_count": 6,
     "metadata": {},
     "output_type": "execute_result"
    }
   ],
   "source": [
    "new_label = []\n",
    "u_ids_sorted = sorted(u_i_dict.keys())\n",
    "\n",
    "for u in u_ids_sorted:\n",
    "    items = u_i_dict[u]\n",
    "    n_items = len(items)\n",
    "    if n_items < 10:\n",
    "        tmp_ls = [0] * (n_items - 2) + [1] + [2]\n",
    "    else:\n",
    "        val_test_len = int(n_items * 0.2)\n",
    "        train_len = n_items - val_test_len\n",
    "        val_len = val_test_len // 2\n",
    "        test_len = val_test_len - val_len\n",
    "        tmp_ls = [0] * train_len + [1] * val_len + [2] * test_len\n",
    "    new_label.extend(tmp_ls)\n",
    "\n",
    "new_label[:100]"
   ],
   "metadata": {
    "collapsed": false,
    "pycharm": {
     "name": "#%%\n"
    }
   }
  },
  {
   "cell_type": "code",
   "execution_count": 7,
   "outputs": [
    {
     "data": {
      "text/plain": "        userID  itemID  rating   timestamp  x_label\n154667       0   11981     2.0  1390694400        0\n295557       0   15852     5.0  1390694400        0\n189316       0   17787     3.0  1391990400        0\n151302       0       0     5.0  1390694400        0\n1820         0    3369     5.0  1405123200        0\n60040        0   13372     5.0  1391990400        0\n199192       0    5458     5.0  1405123200        1\n163234       0    3327     3.0  1391990400        2\n60837        1    2322     5.0  1337212800        0\n233786       1    4123     5.0  1354838400        0\n163460       1   14212     5.0  1368230400        0\n206628       1    1542     4.0  1302220800        0\n261633       1    8802     4.0  1368230400        0\n99658        1    9198     5.0  1318377600        0\n268935       1    7215     5.0  1285372800        0\n77956        1   13468     5.0  1328140800        0\n105444       1    2374     5.0  1391558400        0\n237889       1    7169     5.0  1302220800        0\n173295       1    6677     5.0  1318377600        0\n50074        1   15278     5.0  1344902400        0",
      "text/html": "<div>\n<style scoped>\n    .dataframe tbody tr th:only-of-type {\n        vertical-align: middle;\n    }\n\n    .dataframe tbody tr th {\n        vertical-align: top;\n    }\n\n    .dataframe thead th {\n        text-align: right;\n    }\n</style>\n<table border=\"1\" class=\"dataframe\">\n  <thead>\n    <tr style=\"text-align: right;\">\n      <th></th>\n      <th>userID</th>\n      <th>itemID</th>\n      <th>rating</th>\n      <th>timestamp</th>\n      <th>x_label</th>\n    </tr>\n  </thead>\n  <tbody>\n    <tr>\n      <th>154667</th>\n      <td>0</td>\n      <td>11981</td>\n      <td>2.0</td>\n      <td>1390694400</td>\n      <td>0</td>\n    </tr>\n    <tr>\n      <th>295557</th>\n      <td>0</td>\n      <td>15852</td>\n      <td>5.0</td>\n      <td>1390694400</td>\n      <td>0</td>\n    </tr>\n    <tr>\n      <th>189316</th>\n      <td>0</td>\n      <td>17787</td>\n      <td>3.0</td>\n      <td>1391990400</td>\n      <td>0</td>\n    </tr>\n    <tr>\n      <th>151302</th>\n      <td>0</td>\n      <td>0</td>\n      <td>5.0</td>\n      <td>1390694400</td>\n      <td>0</td>\n    </tr>\n    <tr>\n      <th>1820</th>\n      <td>0</td>\n      <td>3369</td>\n      <td>5.0</td>\n      <td>1405123200</td>\n      <td>0</td>\n    </tr>\n    <tr>\n      <th>60040</th>\n      <td>0</td>\n      <td>13372</td>\n      <td>5.0</td>\n      <td>1391990400</td>\n      <td>0</td>\n    </tr>\n    <tr>\n      <th>199192</th>\n      <td>0</td>\n      <td>5458</td>\n      <td>5.0</td>\n      <td>1405123200</td>\n      <td>1</td>\n    </tr>\n    <tr>\n      <th>163234</th>\n      <td>0</td>\n      <td>3327</td>\n      <td>3.0</td>\n      <td>1391990400</td>\n      <td>2</td>\n    </tr>\n    <tr>\n      <th>60837</th>\n      <td>1</td>\n      <td>2322</td>\n      <td>5.0</td>\n      <td>1337212800</td>\n      <td>0</td>\n    </tr>\n    <tr>\n      <th>233786</th>\n      <td>1</td>\n      <td>4123</td>\n      <td>5.0</td>\n      <td>1354838400</td>\n      <td>0</td>\n    </tr>\n    <tr>\n      <th>163460</th>\n      <td>1</td>\n      <td>14212</td>\n      <td>5.0</td>\n      <td>1368230400</td>\n      <td>0</td>\n    </tr>\n    <tr>\n      <th>206628</th>\n      <td>1</td>\n      <td>1542</td>\n      <td>4.0</td>\n      <td>1302220800</td>\n      <td>0</td>\n    </tr>\n    <tr>\n      <th>261633</th>\n      <td>1</td>\n      <td>8802</td>\n      <td>4.0</td>\n      <td>1368230400</td>\n      <td>0</td>\n    </tr>\n    <tr>\n      <th>99658</th>\n      <td>1</td>\n      <td>9198</td>\n      <td>5.0</td>\n      <td>1318377600</td>\n      <td>0</td>\n    </tr>\n    <tr>\n      <th>268935</th>\n      <td>1</td>\n      <td>7215</td>\n      <td>5.0</td>\n      <td>1285372800</td>\n      <td>0</td>\n    </tr>\n    <tr>\n      <th>77956</th>\n      <td>1</td>\n      <td>13468</td>\n      <td>5.0</td>\n      <td>1328140800</td>\n      <td>0</td>\n    </tr>\n    <tr>\n      <th>105444</th>\n      <td>1</td>\n      <td>2374</td>\n      <td>5.0</td>\n      <td>1391558400</td>\n      <td>0</td>\n    </tr>\n    <tr>\n      <th>237889</th>\n      <td>1</td>\n      <td>7169</td>\n      <td>5.0</td>\n      <td>1302220800</td>\n      <td>0</td>\n    </tr>\n    <tr>\n      <th>173295</th>\n      <td>1</td>\n      <td>6677</td>\n      <td>5.0</td>\n      <td>1318377600</td>\n      <td>0</td>\n    </tr>\n    <tr>\n      <th>50074</th>\n      <td>1</td>\n      <td>15278</td>\n      <td>5.0</td>\n      <td>1344902400</td>\n      <td>0</td>\n    </tr>\n  </tbody>\n</table>\n</div>"
     },
     "execution_count": 7,
     "metadata": {},
     "output_type": "execute_result"
    }
   ],
   "source": [
    "df['x_label'] = new_label\n",
    "df[:20]"
   ],
   "metadata": {
    "collapsed": false,
    "pycharm": {
     "name": "#%%\n"
    }
   }
  },
  {
   "cell_type": "code",
   "execution_count": 12,
   "outputs": [
    {
     "data": {
      "text/plain": "'beauty14-indexed'"
     },
     "execution_count": 12,
     "metadata": {},
     "output_type": "execute_result"
    }
   ],
   "source": [
    "rslt_file[:-6]"
   ],
   "metadata": {
    "collapsed": false,
    "pycharm": {
     "name": "#%%\n"
    }
   }
  },
  {
   "cell_type": "code",
   "execution_count": 8,
   "outputs": [
    {
     "name": "stdout",
     "output_type": "stream",
     "text": [
      "done!!!\n"
     ]
    }
   ],
   "source": [
    "new_labeled_file = rslt_file[:-6] + '-v4.inter'\n",
    "df.to_csv(os.path.join('./', new_labeled_file), sep='\\t', index=False)\n",
    "print('done!!!')"
   ],
   "metadata": {
    "collapsed": false,
    "pycharm": {
     "name": "#%%\n"
    }
   }
  },
  {
   "cell_type": "markdown",
   "source": [],
   "metadata": {
    "collapsed": false
   }
  },
  {
   "cell_type": "markdown",
   "source": [],
   "metadata": {
    "collapsed": false
   }
  },
  {
   "cell_type": "markdown",
   "source": [
    "## Reload"
   ],
   "metadata": {
    "collapsed": false,
    "pycharm": {
     "name": "#%% md\n"
    }
   }
  },
  {
   "cell_type": "code",
   "execution_count": 9,
   "outputs": [
    {
     "name": "stdout",
     "output_type": "stream",
     "text": [
      "shape: (296337, 5)\n"
     ]
    },
    {
     "data": {
      "text/plain": "    userID  itemID  rating   timestamp  x_label\n0        0   11981     2.0  1390694400        0\n1        0   15852     5.0  1390694400        0\n2        0   17787     3.0  1391990400        0\n3        0       0     5.0  1390694400        0\n4        0    3369     5.0  1405123200        0\n5        0   13372     5.0  1391990400        0\n6        0    5458     5.0  1405123200        1\n7        0    3327     3.0  1391990400        2\n8        1    2322     5.0  1337212800        0\n9        1    4123     5.0  1354838400        0\n10       1   14212     5.0  1368230400        0\n11       1    1542     4.0  1302220800        0\n12       1    8802     4.0  1368230400        0\n13       1    9198     5.0  1318377600        0\n14       1    7215     5.0  1285372800        0\n15       1   13468     5.0  1328140800        0\n16       1    2374     5.0  1391558400        0\n17       1    7169     5.0  1302220800        0\n18       1    6677     5.0  1318377600        0\n19       1   15278     5.0  1344902400        0",
      "text/html": "<div>\n<style scoped>\n    .dataframe tbody tr th:only-of-type {\n        vertical-align: middle;\n    }\n\n    .dataframe tbody tr th {\n        vertical-align: top;\n    }\n\n    .dataframe thead th {\n        text-align: right;\n    }\n</style>\n<table border=\"1\" class=\"dataframe\">\n  <thead>\n    <tr style=\"text-align: right;\">\n      <th></th>\n      <th>userID</th>\n      <th>itemID</th>\n      <th>rating</th>\n      <th>timestamp</th>\n      <th>x_label</th>\n    </tr>\n  </thead>\n  <tbody>\n    <tr>\n      <th>0</th>\n      <td>0</td>\n      <td>11981</td>\n      <td>2.0</td>\n      <td>1390694400</td>\n      <td>0</td>\n    </tr>\n    <tr>\n      <th>1</th>\n      <td>0</td>\n      <td>15852</td>\n      <td>5.0</td>\n      <td>1390694400</td>\n      <td>0</td>\n    </tr>\n    <tr>\n      <th>2</th>\n      <td>0</td>\n      <td>17787</td>\n      <td>3.0</td>\n      <td>1391990400</td>\n      <td>0</td>\n    </tr>\n    <tr>\n      <th>3</th>\n      <td>0</td>\n      <td>0</td>\n      <td>5.0</td>\n      <td>1390694400</td>\n      <td>0</td>\n    </tr>\n    <tr>\n      <th>4</th>\n      <td>0</td>\n      <td>3369</td>\n      <td>5.0</td>\n      <td>1405123200</td>\n      <td>0</td>\n    </tr>\n    <tr>\n      <th>5</th>\n      <td>0</td>\n      <td>13372</td>\n      <td>5.0</td>\n      <td>1391990400</td>\n      <td>0</td>\n    </tr>\n    <tr>\n      <th>6</th>\n      <td>0</td>\n      <td>5458</td>\n      <td>5.0</td>\n      <td>1405123200</td>\n      <td>1</td>\n    </tr>\n    <tr>\n      <th>7</th>\n      <td>0</td>\n      <td>3327</td>\n      <td>3.0</td>\n      <td>1391990400</td>\n      <td>2</td>\n    </tr>\n    <tr>\n      <th>8</th>\n      <td>1</td>\n      <td>2322</td>\n      <td>5.0</td>\n      <td>1337212800</td>\n      <td>0</td>\n    </tr>\n    <tr>\n      <th>9</th>\n      <td>1</td>\n      <td>4123</td>\n      <td>5.0</td>\n      <td>1354838400</td>\n      <td>0</td>\n    </tr>\n    <tr>\n      <th>10</th>\n      <td>1</td>\n      <td>14212</td>\n      <td>5.0</td>\n      <td>1368230400</td>\n      <td>0</td>\n    </tr>\n    <tr>\n      <th>11</th>\n      <td>1</td>\n      <td>1542</td>\n      <td>4.0</td>\n      <td>1302220800</td>\n      <td>0</td>\n    </tr>\n    <tr>\n      <th>12</th>\n      <td>1</td>\n      <td>8802</td>\n      <td>4.0</td>\n      <td>1368230400</td>\n      <td>0</td>\n    </tr>\n    <tr>\n      <th>13</th>\n      <td>1</td>\n      <td>9198</td>\n      <td>5.0</td>\n      <td>1318377600</td>\n      <td>0</td>\n    </tr>\n    <tr>\n      <th>14</th>\n      <td>1</td>\n      <td>7215</td>\n      <td>5.0</td>\n      <td>1285372800</td>\n      <td>0</td>\n    </tr>\n    <tr>\n      <th>15</th>\n      <td>1</td>\n      <td>13468</td>\n      <td>5.0</td>\n      <td>1328140800</td>\n      <td>0</td>\n    </tr>\n    <tr>\n      <th>16</th>\n      <td>1</td>\n      <td>2374</td>\n      <td>5.0</td>\n      <td>1391558400</td>\n      <td>0</td>\n    </tr>\n    <tr>\n      <th>17</th>\n      <td>1</td>\n      <td>7169</td>\n      <td>5.0</td>\n      <td>1302220800</td>\n      <td>0</td>\n    </tr>\n    <tr>\n      <th>18</th>\n      <td>1</td>\n      <td>6677</td>\n      <td>5.0</td>\n      <td>1318377600</td>\n      <td>0</td>\n    </tr>\n    <tr>\n      <th>19</th>\n      <td>1</td>\n      <td>15278</td>\n      <td>5.0</td>\n      <td>1344902400</td>\n      <td>0</td>\n    </tr>\n  </tbody>\n</table>\n</div>"
     },
     "execution_count": 9,
     "metadata": {},
     "output_type": "execute_result"
    }
   ],
   "source": [
    "indexed_df = pd.read_csv(new_labeled_file, sep='\\t')\n",
    "print(f'shape: {indexed_df.shape}')\n",
    "indexed_df[:20]"
   ],
   "metadata": {
    "collapsed": false,
    "pycharm": {
     "name": "#%%\n"
    }
   }
  },
  {
   "cell_type": "code",
   "execution_count": 10,
   "outputs": [
    {
     "name": "stdout",
     "output_type": "stream",
     "text": [
      "# of unique learners: 35598\n",
      "# of unique courses: 18357\n",
      "min/max of unique learners: 0/35597\n",
      "min/max of unique courses: 0/18356\n"
     ]
    }
   ],
   "source": [
    "u_id_str, i_id_str = 'userID', 'itemID'\n",
    "u_uni = indexed_df[u_id_str].unique()\n",
    "c_uni = indexed_df[i_id_str].unique()\n",
    "\n",
    "print(f'# of unique learners: {len(u_uni)}')\n",
    "print(f'# of unique courses: {len(c_uni)}')\n",
    "\n",
    "print('min/max of unique learners: {0}/{1}'.format(min(u_uni), max(u_uni)))\n",
    "print('min/max of unique courses: {0}/{1}'.format(min(c_uni), max(c_uni)))\n"
   ],
   "metadata": {
    "collapsed": false,
    "pycharm": {
     "name": "#%%\n"
    }
   }
  }
 ],
 "metadata": {
  "kernelspec": {
   "display_name": "Python 3",
   "language": "python",
   "name": "python3"
  },
  "language_info": {
   "codemirror_mode": {
    "name": "ipython",
    "version": 2
   },
   "file_extension": ".py",
   "mimetype": "text/x-python",
   "name": "python",
   "nbconvert_exporter": "python",
   "pygments_lexer": "ipython2",
   "version": "2.7.6"
  }
 },
 "nbformat": 4,
 "nbformat_minor": 0
}