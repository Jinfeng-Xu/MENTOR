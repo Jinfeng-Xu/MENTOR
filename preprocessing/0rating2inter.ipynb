{
 "cells": [
  {
   "cell_type": "markdown",
   "source": [
    "# U-I interactions extraction, 5-core filtering, re-indexing for Amazon Sports_and_Outdoors dataset\n",
    "- Extracting U-I interactions and performing 5-core, re-indexing\n",
    "- dataset located at: http://jmcauley.ucsd.edu/data/amazon/links.html, rating only file in \"Small\" subsets for experimentation"
   ],
   "metadata": {
    "collapsed": false
   }
  },
  {
   "cell_type": "code",
   "execution_count": 1,
   "metadata": {
    "collapsed": true
   },
   "outputs": [],
   "source": [
    "import os, csv\n",
    "import pandas as pd"
   ]
  },
  {
   "cell_type": "code",
   "execution_count": null,
   "outputs": [],
   "source": [
    "os.chdir('your dataset folder path')\n",
    "os.getcwd()"
   ],
   "metadata": {
    "collapsed": false,
    "pycharm": {
     "name": "#%%\n",
     "is_executing": true
    }
   }
  },
  {
   "cell_type": "markdown",
   "source": [
    "## 先5-core过滤\n",
    "## 5-core filtering"
   ],
   "metadata": {
    "collapsed": false
   }
  },
  {
   "cell_type": "code",
   "execution_count": 3,
   "outputs": [
    {
     "name": "stdout",
     "output_type": "stream",
     "text": [
      "shape: (3268695, 4)\n"
     ]
    },
    {
     "data": {
      "text/plain": "           userID      itemID  rating   timestamp\n0  A3PMSRCL80KSA1  0000031852     4.0  1388275200\n1  A1SNLWGLFXD70K  0000031852     4.0  1392940800\n2  A1KJ4CVG87QW09  0000031852     4.0  1389657600\n3    AA9ITO6ZLZW6  0000031852     5.0  1399507200\n4    APJ5ULJ1RMZ4  0000031852     1.0  1398556800",
      "text/html": "<div>\n<style scoped>\n    .dataframe tbody tr th:only-of-type {\n        vertical-align: middle;\n    }\n\n    .dataframe tbody tr th {\n        vertical-align: top;\n    }\n\n    .dataframe thead th {\n        text-align: right;\n    }\n</style>\n<table border=\"1\" class=\"dataframe\">\n  <thead>\n    <tr style=\"text-align: right;\">\n      <th></th>\n      <th>userID</th>\n      <th>itemID</th>\n      <th>rating</th>\n      <th>timestamp</th>\n    </tr>\n  </thead>\n  <tbody>\n    <tr>\n      <th>0</th>\n      <td>A3PMSRCL80KSA1</td>\n      <td>0000031852</td>\n      <td>4.0</td>\n      <td>1388275200</td>\n    </tr>\n    <tr>\n      <th>1</th>\n      <td>A1SNLWGLFXD70K</td>\n      <td>0000031852</td>\n      <td>4.0</td>\n      <td>1392940800</td>\n    </tr>\n    <tr>\n      <th>2</th>\n      <td>A1KJ4CVG87QW09</td>\n      <td>0000031852</td>\n      <td>4.0</td>\n      <td>1389657600</td>\n    </tr>\n    <tr>\n      <th>3</th>\n      <td>AA9ITO6ZLZW6</td>\n      <td>0000031852</td>\n      <td>5.0</td>\n      <td>1399507200</td>\n    </tr>\n    <tr>\n      <th>4</th>\n      <td>APJ5ULJ1RMZ4</td>\n      <td>0000031852</td>\n      <td>1.0</td>\n      <td>1398556800</td>\n    </tr>\n  </tbody>\n</table>\n</div>"
     },
     "execution_count": 3,
     "metadata": {},
     "output_type": "execute_result"
    }
   ],
   "source": [
    "df = pd.read_csv('ratings_Sports_and_Outdoors.csv', names=['userID', 'itemID', 'rating', 'timestamp'], header=None)\n",
    "print(f'shape: {df.shape}')\n",
    "df[:5]"
   ],
   "metadata": {
    "collapsed": false,
    "pycharm": {
     "name": "#%%\n"
    }
   }
  },
  {
   "cell_type": "code",
   "execution_count": 4,
   "outputs": [
    {
     "name": "stdout",
     "output_type": "stream",
     "text": [
      "After dropped: (3268695, 4)\n"
     ]
    },
    {
     "data": {
      "text/plain": "           userID      itemID  rating   timestamp\n0  A3PMSRCL80KSA1  0000031852     4.0  1388275200\n1  A1SNLWGLFXD70K  0000031852     4.0  1392940800\n2  A1KJ4CVG87QW09  0000031852     4.0  1389657600",
      "text/html": "<div>\n<style scoped>\n    .dataframe tbody tr th:only-of-type {\n        vertical-align: middle;\n    }\n\n    .dataframe tbody tr th {\n        vertical-align: top;\n    }\n\n    .dataframe thead th {\n        text-align: right;\n    }\n</style>\n<table border=\"1\" class=\"dataframe\">\n  <thead>\n    <tr style=\"text-align: right;\">\n      <th></th>\n      <th>userID</th>\n      <th>itemID</th>\n      <th>rating</th>\n      <th>timestamp</th>\n    </tr>\n  </thead>\n  <tbody>\n    <tr>\n      <th>0</th>\n      <td>A3PMSRCL80KSA1</td>\n      <td>0000031852</td>\n      <td>4.0</td>\n      <td>1388275200</td>\n    </tr>\n    <tr>\n      <th>1</th>\n      <td>A1SNLWGLFXD70K</td>\n      <td>0000031852</td>\n      <td>4.0</td>\n      <td>1392940800</td>\n    </tr>\n    <tr>\n      <th>2</th>\n      <td>A1KJ4CVG87QW09</td>\n      <td>0000031852</td>\n      <td>4.0</td>\n      <td>1389657600</td>\n    </tr>\n  </tbody>\n</table>\n</div>"
     },
     "execution_count": 4,
     "metadata": {},
     "output_type": "execute_result"
    }
   ],
   "source": [
    "k_core = 5\n",
    "learner_id, course_id, tmstmp_str = 'userID', 'itemID', 'timestamp'\n",
    "\n",
    "df.dropna(subset=[learner_id, course_id, tmstmp_str], inplace=True)\n",
    "df.drop_duplicates(subset=[learner_id, course_id, tmstmp_str], inplace=True)\n",
    "print(f'After dropped: {df.shape}')\n",
    "df[:3]"
   ],
   "metadata": {
    "collapsed": false,
    "pycharm": {
     "name": "#%%\n"
    }
   }
  },
  {
   "cell_type": "code",
   "execution_count": 5,
   "outputs": [],
   "source": [
    "from collections import Counter\n",
    "import numpy as np\n",
    "\n",
    "min_u_num, min_i_num = 5, 5\n",
    "\n",
    "def get_illegal_ids_by_inter_num(df, field, max_num=None, min_num=None):\n",
    "    if field is None:\n",
    "        return set()\n",
    "    if max_num is None and min_num is None:\n",
    "        return set()\n",
    "\n",
    "    max_num = max_num or np.inf\n",
    "    min_num = min_num or -1\n",
    "\n",
    "    ids = df[field].values\n",
    "    inter_num = Counter(ids)\n",
    "    ids = {id_ for id_ in inter_num if inter_num[id_] < min_num or inter_num[id_] > max_num}\n",
    "    print(f'{len(ids)} illegal_ids_by_inter_num, field={field}')\n",
    "\n",
    "    return ids\n",
    "\n",
    "\n",
    "def filter_by_k_core(df):\n",
    "    while True:\n",
    "        ban_users = get_illegal_ids_by_inter_num(df, field=learner_id, max_num=None, min_num=min_u_num)\n",
    "        ban_items = get_illegal_ids_by_inter_num(df, field=course_id, max_num=None, min_num=min_i_num)\n",
    "        if len(ban_users) == 0 and len(ban_items) == 0:\n",
    "            return\n",
    "\n",
    "        dropped_inter = pd.Series(False, index=df.index)\n",
    "        if learner_id:\n",
    "            dropped_inter |= df[learner_id].isin(ban_users)\n",
    "        if course_id:\n",
    "            dropped_inter |= df[course_id].isin(ban_items)\n",
    "        print(f'{len(dropped_inter)} dropped interactions')\n",
    "        df.drop(df.index[dropped_inter], inplace=True)\n",
    "\n"
   ],
   "metadata": {
    "collapsed": false,
    "pycharm": {
     "name": "#%%\n"
    }
   }
  },
  {
   "cell_type": "markdown",
   "source": [
    "## k-core"
   ],
   "metadata": {
    "collapsed": false
   }
  },
  {
   "cell_type": "code",
   "execution_count": 6,
   "outputs": [
    {
     "name": "stdout",
     "output_type": "stream",
     "text": [
      "1906153 illegal_ids_by_inter_num, field=userID\n",
      "376127 illegal_ids_by_inter_num, field=itemID\n",
      "3268695 dropped interactions\n",
      "22213 illegal_ids_by_inter_num, field=userID\n",
      "54919 illegal_ids_by_inter_num, field=itemID\n",
      "589029 dropped interactions\n",
      "18323 illegal_ids_by_inter_num, field=userID\n",
      "3743 illegal_ids_by_inter_num, field=itemID\n",
      "422478 dropped interactions\n",
      "2298 illegal_ids_by_inter_num, field=userID\n",
      "4388 illegal_ids_by_inter_num, field=itemID\n",
      "349749 dropped interactions\n",
      "3331 illegal_ids_by_inter_num, field=userID\n",
      "639 illegal_ids_by_inter_num, field=itemID\n",
      "326238 dropped interactions\n",
      "579 illegal_ids_by_inter_num, field=userID\n",
      "1012 illegal_ids_by_inter_num, field=itemID\n",
      "311188 dropped interactions\n",
      "897 illegal_ids_by_inter_num, field=userID\n",
      "169 illegal_ids_by_inter_num, field=itemID\n",
      "305054 dropped interactions\n",
      "155 illegal_ids_by_inter_num, field=userID\n",
      "308 illegal_ids_by_inter_num, field=itemID\n",
      "300866 dropped interactions\n",
      "301 illegal_ids_by_inter_num, field=userID\n",
      "47 illegal_ids_by_inter_num, field=itemID\n",
      "299031 dropped interactions\n",
      "50 illegal_ids_by_inter_num, field=userID\n",
      "79 illegal_ids_by_inter_num, field=itemID\n",
      "297646 dropped interactions\n",
      "87 illegal_ids_by_inter_num, field=userID\n",
      "11 illegal_ids_by_inter_num, field=itemID\n",
      "297132 dropped interactions\n",
      "16 illegal_ids_by_inter_num, field=userID\n",
      "24 illegal_ids_by_inter_num, field=itemID\n",
      "296741 dropped interactions\n",
      "24 illegal_ids_by_inter_num, field=userID\n",
      "1 illegal_ids_by_inter_num, field=itemID\n",
      "296581 dropped interactions\n",
      "1 illegal_ids_by_inter_num, field=userID\n",
      "8 illegal_ids_by_inter_num, field=itemID\n",
      "296481 dropped interactions\n",
      "8 illegal_ids_by_inter_num, field=userID\n",
      "0 illegal_ids_by_inter_num, field=itemID\n",
      "296445 dropped interactions\n",
      "0 illegal_ids_by_inter_num, field=userID\n",
      "5 illegal_ids_by_inter_num, field=itemID\n",
      "296413 dropped interactions\n",
      "5 illegal_ids_by_inter_num, field=userID\n",
      "0 illegal_ids_by_inter_num, field=itemID\n",
      "296393 dropped interactions\n",
      "0 illegal_ids_by_inter_num, field=userID\n",
      "3 illegal_ids_by_inter_num, field=itemID\n",
      "296373 dropped interactions\n",
      "4 illegal_ids_by_inter_num, field=userID\n",
      "0 illegal_ids_by_inter_num, field=itemID\n",
      "296361 dropped interactions\n",
      "0 illegal_ids_by_inter_num, field=userID\n",
      "1 illegal_ids_by_inter_num, field=itemID\n",
      "296345 dropped interactions\n",
      "1 illegal_ids_by_inter_num, field=userID\n",
      "0 illegal_ids_by_inter_num, field=itemID\n",
      "296341 dropped interactions\n",
      "0 illegal_ids_by_inter_num, field=userID\n",
      "0 illegal_ids_by_inter_num, field=itemID\n",
      "k-core shape: (296337, 4)\n",
      "shape after k-core: (296337, 4)\n"
     ]
    },
    {
     "data": {
      "text/plain": "             userID      itemID  rating   timestamp\n564    AIXZKN4ACSKI  1881509818     5.0  1390694400\n565  A1L5P841VIO02V  1881509818     5.0  1328140800",
      "text/html": "<div>\n<style scoped>\n    .dataframe tbody tr th:only-of-type {\n        vertical-align: middle;\n    }\n\n    .dataframe tbody tr th {\n        vertical-align: top;\n    }\n\n    .dataframe thead th {\n        text-align: right;\n    }\n</style>\n<table border=\"1\" class=\"dataframe\">\n  <thead>\n    <tr style=\"text-align: right;\">\n      <th></th>\n      <th>userID</th>\n      <th>itemID</th>\n      <th>rating</th>\n      <th>timestamp</th>\n    </tr>\n  </thead>\n  <tbody>\n    <tr>\n      <th>564</th>\n      <td>AIXZKN4ACSKI</td>\n      <td>1881509818</td>\n      <td>5.0</td>\n      <td>1390694400</td>\n    </tr>\n    <tr>\n      <th>565</th>\n      <td>A1L5P841VIO02V</td>\n      <td>1881509818</td>\n      <td>5.0</td>\n      <td>1328140800</td>\n    </tr>\n  </tbody>\n</table>\n</div>"
     },
     "execution_count": 6,
     "metadata": {},
     "output_type": "execute_result"
    }
   ],
   "source": [
    "filter_by_k_core(df)\n",
    "print(f'k-core shape: {df.shape}')\n",
    "print(f'shape after k-core: {df.shape}')\n",
    "df[:2]"
   ],
   "metadata": {
    "collapsed": false,
    "pycharm": {
     "name": "#%%\n"
    }
   }
  },
  {
   "cell_type": "markdown",
   "source": [
    "## Re-index"
   ],
   "metadata": {
    "collapsed": false
   }
  },
  {
   "cell_type": "code",
   "execution_count": 7,
   "outputs": [],
   "source": [
    "df.reset_index(drop=True, inplace=True)"
   ],
   "metadata": {
    "collapsed": false,
    "pycharm": {
     "name": "#%%\n"
    }
   }
  },
  {
   "cell_type": "code",
   "execution_count": 8,
   "outputs": [
    {
     "name": "stdout",
     "output_type": "stream",
     "text": [
      "mapping dumped...\n"
     ]
    }
   ],
   "source": [
    "\n",
    "i_mapping_file = 'i_id_mapping.csv'\n",
    "u_mapping_file = 'u_id_mapping.csv'\n",
    "\n",
    "splitting = [0.8, 0.1, 0.1]\n",
    "uid_field, iid_field = learner_id, course_id\n",
    "\n",
    "uni_users = pd.unique(df[uid_field])\n",
    "uni_items = pd.unique(df[iid_field])\n",
    "\n",
    "# start from 0\n",
    "u_id_map = {k: i for i, k in enumerate(uni_users)}\n",
    "i_id_map = {k: i for i, k in enumerate(uni_items)}\n",
    "\n",
    "df[uid_field] = df[uid_field].map(u_id_map)\n",
    "df[iid_field] = df[iid_field].map(i_id_map)\n",
    "df[uid_field] = df[uid_field].astype(int)\n",
    "df[iid_field] = df[iid_field].astype(int)\n",
    "\n",
    "# dump\n",
    "rslt_dir = './'\n",
    "u_df = pd.DataFrame(list(u_id_map.items()), columns=['user_id', 'userID'])\n",
    "i_df = pd.DataFrame(list(i_id_map.items()), columns=['asin', 'itemID'])\n",
    "\n",
    "u_df.to_csv(os.path.join(rslt_dir, u_mapping_file), sep='\\t', index=False)\n",
    "i_df.to_csv(os.path.join(rslt_dir, i_mapping_file), sep='\\t', index=False)\n",
    "print(f'mapping dumped...')"
   ],
   "metadata": {
    "collapsed": false,
    "pycharm": {
     "name": "#%%\n"
    }
   }
  },
  {
   "cell_type": "code",
   "execution_count": null,
   "outputs": [],
   "source": [
    "\n",
    "# =========2. splitting\n",
    "print(f'splitting ...')\n",
    "tot_ratio = sum(splitting)\n",
    "# remove 0.0 in ratios\n",
    "ratios = [i for i in splitting if i > .0]\n",
    "ratios = [_ / tot_ratio for _ in ratios]\n",
    "split_ratios = np.cumsum(ratios)[:-1]\n",
    "\n",
    "#df[tmstmp_str] = df[tmstmp_str].map(lambda x: datetime.strptime(x, \"%Y-%m-%dT%H:%M:%SZ\"))\n",
    "split_ratios"
   ],
   "metadata": {
    "collapsed": false,
    "pycharm": {
     "name": "#%%\n",
     "is_executing": true
    }
   }
  },
  {
   "cell_type": "code",
   "execution_count": 10,
   "outputs": [
    {
     "name": "stdout",
     "output_type": "stream",
     "text": [
      "columns: Index(['userID', 'itemID', 'rating', 'timestamp', 'x_label'], dtype='object')\n"
     ]
    },
    {
     "data": {
      "text/plain": "   userID  itemID  rating   timestamp  x_label\n1       1       0     5.0  1328140800        0\n2       2       0     4.0  1330387200        0\n3       3       0     4.0  1328400000        0\n4       4       0     4.0  1366675200        0\n5       5       0     5.0  1351814400        0",
      "text/html": "<div>\n<style scoped>\n    .dataframe tbody tr th:only-of-type {\n        vertical-align: middle;\n    }\n\n    .dataframe tbody tr th {\n        vertical-align: top;\n    }\n\n    .dataframe thead th {\n        text-align: right;\n    }\n</style>\n<table border=\"1\" class=\"dataframe\">\n  <thead>\n    <tr style=\"text-align: right;\">\n      <th></th>\n      <th>userID</th>\n      <th>itemID</th>\n      <th>rating</th>\n      <th>timestamp</th>\n      <th>x_label</th>\n    </tr>\n  </thead>\n  <tbody>\n    <tr>\n      <th>1</th>\n      <td>1</td>\n      <td>0</td>\n      <td>5.0</td>\n      <td>1328140800</td>\n      <td>0</td>\n    </tr>\n    <tr>\n      <th>2</th>\n      <td>2</td>\n      <td>0</td>\n      <td>4.0</td>\n      <td>1330387200</td>\n      <td>0</td>\n    </tr>\n    <tr>\n      <th>3</th>\n      <td>3</td>\n      <td>0</td>\n      <td>4.0</td>\n      <td>1328400000</td>\n      <td>0</td>\n    </tr>\n    <tr>\n      <th>4</th>\n      <td>4</td>\n      <td>0</td>\n      <td>4.0</td>\n      <td>1366675200</td>\n      <td>0</td>\n    </tr>\n    <tr>\n      <th>5</th>\n      <td>5</td>\n      <td>0</td>\n      <td>5.0</td>\n      <td>1351814400</td>\n      <td>0</td>\n    </tr>\n  </tbody>\n</table>\n</div>"
     },
     "execution_count": 10,
     "metadata": {},
     "output_type": "execute_result"
    }
   ],
   "source": [
    "ts_id = 'timestamp'\n",
    "\n",
    "split_timestamps = list(np.quantile(df[ts_id], split_ratios))\n",
    "# get df training dataset unique users/items\n",
    "df_train = df.loc[df[ts_id] < split_timestamps[0]].copy()\n",
    "df_val = df.loc[(split_timestamps[0] <= df[ts_id]) & (df[ts_id] < split_timestamps[1])].copy()\n",
    "df_test = df.loc[(split_timestamps[1] <= df[ts_id])].copy()\n",
    "\n",
    "x_label, rslt_file = 'x_label', 'sports-indexed.inter'\n",
    "df_train[x_label] = 0\n",
    "df_val[x_label] = 1\n",
    "df_test[x_label] = 2\n",
    "temp_df = pd.concat([df_train, df_val, df_test])\n",
    "temp_df = temp_df[[learner_id, course_id, 'rating', ts_id, x_label]]\n",
    "print(f'columns: {temp_df.columns}')\n",
    "\n",
    "temp_df.columns = [learner_id, course_id, 'rating', ts_id, x_label]\n",
    "\n",
    "temp_df.to_csv(os.path.join(rslt_dir, rslt_file), sep='\\t', index=False)\n",
    "temp_df[:5]\n",
    "#print('done!')"
   ],
   "metadata": {
    "collapsed": false,
    "pycharm": {
     "name": "#%%\n"
    }
   }
  },
  {
   "cell_type": "markdown",
   "source": [],
   "metadata": {
    "collapsed": false
   }
  },
  {
   "cell_type": "markdown",
   "source": [],
   "metadata": {
    "collapsed": false
   }
  },
  {
   "cell_type": "markdown",
   "source": [
    "## Reload"
   ],
   "metadata": {
    "collapsed": false,
    "pycharm": {
     "name": "#%% md\n"
    }
   }
  },
  {
   "cell_type": "code",
   "execution_count": 11,
   "outputs": [
    {
     "name": "stdout",
     "output_type": "stream",
     "text": [
      "shape: (296337, 5)\n"
     ]
    },
    {
     "data": {
      "text/plain": "   userID  itemID  rating   timestamp  x_label\n0       1       0     5.0  1328140800        0\n1       2       0     4.0  1330387200        0\n2       3       0     4.0  1328400000        0\n3       4       0     4.0  1366675200        0",
      "text/html": "<div>\n<style scoped>\n    .dataframe tbody tr th:only-of-type {\n        vertical-align: middle;\n    }\n\n    .dataframe tbody tr th {\n        vertical-align: top;\n    }\n\n    .dataframe thead th {\n        text-align: right;\n    }\n</style>\n<table border=\"1\" class=\"dataframe\">\n  <thead>\n    <tr style=\"text-align: right;\">\n      <th></th>\n      <th>userID</th>\n      <th>itemID</th>\n      <th>rating</th>\n      <th>timestamp</th>\n      <th>x_label</th>\n    </tr>\n  </thead>\n  <tbody>\n    <tr>\n      <th>0</th>\n      <td>1</td>\n      <td>0</td>\n      <td>5.0</td>\n      <td>1328140800</td>\n      <td>0</td>\n    </tr>\n    <tr>\n      <th>1</th>\n      <td>2</td>\n      <td>0</td>\n      <td>4.0</td>\n      <td>1330387200</td>\n      <td>0</td>\n    </tr>\n    <tr>\n      <th>2</th>\n      <td>3</td>\n      <td>0</td>\n      <td>4.0</td>\n      <td>1328400000</td>\n      <td>0</td>\n    </tr>\n    <tr>\n      <th>3</th>\n      <td>4</td>\n      <td>0</td>\n      <td>4.0</td>\n      <td>1366675200</td>\n      <td>0</td>\n    </tr>\n  </tbody>\n</table>\n</div>"
     },
     "execution_count": 11,
     "metadata": {},
     "output_type": "execute_result"
    }
   ],
   "source": [
    "indexed_df = pd.read_csv(rslt_file, sep='\\t')\n",
    "print(f'shape: {indexed_df.shape}')\n",
    "indexed_df[:4]"
   ],
   "metadata": {
    "collapsed": false,
    "pycharm": {
     "name": "#%%\n"
    }
   }
  },
  {
   "cell_type": "code",
   "execution_count": 12,
   "outputs": [
    {
     "name": "stdout",
     "output_type": "stream",
     "text": [
      "# of unique learners: 35598\n",
      "# of unique courses: 18357\n",
      "min/max of unique learners: 0/35597\n",
      "min/max of unique courses: 0/18356\n"
     ]
    }
   ],
   "source": [
    "u_uni = indexed_df[learner_id].unique()\n",
    "c_uni = indexed_df[course_id].unique()\n",
    "\n",
    "print(f'# of unique learners: {len(u_uni)}')\n",
    "print(f'# of unique courses: {len(c_uni)}')\n",
    "\n",
    "print('min/max of unique learners: {0}/{1}'.format(min(u_uni), max(u_uni)))\n",
    "print('min/max of unique courses: {0}/{1}'.format(min(c_uni), max(c_uni)))\n"
   ],
   "metadata": {
    "collapsed": false,
    "pycharm": {
     "name": "#%%\n"
    }
   }
  }
 ],
 "metadata": {
  "kernelspec": {
   "display_name": "Python 3",
   "language": "python",
   "name": "python3"
  },
  "language_info": {
   "codemirror_mode": {
    "name": "ipython",
    "version": 2
   },
   "file_extension": ".py",
   "mimetype": "text/x-python",
   "name": "python",
   "nbconvert_exporter": "python",
   "pygments_lexer": "ipython2",
   "version": "2.7.6"
  }
 },
 "nbformat": 4,
 "nbformat_minor": 0
}